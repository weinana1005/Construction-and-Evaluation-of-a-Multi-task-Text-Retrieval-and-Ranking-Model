{
 "cells": [
  {
   "cell_type": "code",
   "id": "initial_id",
   "metadata": {
    "collapsed": true,
    "ExecuteTime": {
     "end_time": "2025-03-27T12:50:30.497015Z",
     "start_time": "2025-03-27T12:50:30.491559Z"
    }
   },
   "source": [
    "# -------------------- General Purpose --------------------\n",
    "import os\n",
    "import math\n",
    "import string\n",
    "import random\n",
    "import csv\n",
    "import re\n",
    "import collections\n",
    "from collections import defaultdict, Counter\n",
    "\n",
    "# -------------------- Data Handling --------------------\n",
    "import numpy as np\n",
    "import pandas as pd\n",
    "from numpy.linalg import norm\n",
    "\n",
    "# -------------------- Visualization --------------------\n",
    "import matplotlib.pyplot as plt\n",
    "\n",
    "# -------------------- NLP Preprocessing (Task 1, 2, 3) --------------------\n",
    "import nltk\n",
    "from nltk.corpus import stopwords \n",
    "from nltk.tokenize import RegexpTokenizer, word_tokenize\n",
    "from nltk.stem.wordnet import WordNetLemmatizer\n",
    "from nltk.stem import SnowballStemmer\n",
    "\n",
    "# -------------------- Word Embeddings (Task 2, 3, 4) --------------------\n",
    "import gensim.downloader as api\n",
    "from gensim.models import Word2Vec, KeyedVectors\n",
    "from gensim.models.word2vec import LineSentence\n",
    "\n",
    "# -------------------- XGBoost / LambdaMART (Task 3) --------------------\n",
    "import xgboost as xgb\n",
    "from sklearn.model_selection import KFold, ParameterGrid\n",
    "from sklearn.preprocessing import StandardScaler\n",
    "\n",
    "# -------------------- PyTorch (Task 4: Neural Networks) --------------------\n",
    "import torch\n",
    "import torch.nn as nn\n",
    "from torch.utils.data import DataLoader, Dataset\n",
    "from torch.autograd import Variable\n"
   ],
   "outputs": [],
   "execution_count": 2
  },
  {
   "metadata": {},
   "cell_type": "markdown",
   "source": "# Data preprocessing on train_data and validation_data",
   "id": "1b82e9d76dc49178"
  },
  {
   "metadata": {
    "ExecuteTime": {
     "end_time": "2025-03-27T12:51:13.466Z",
     "start_time": "2025-03-27T12:50:30.543630Z"
    }
   },
   "cell_type": "code",
   "source": [
    "train_data = pd.read_csv('train_data.tsv', sep='\\t',header=0,low_memory=False)\n",
    "train_data  # 4364339 rows × 5 columns"
   ],
   "id": "693721e63353f4a1",
   "outputs": [
    {
     "data": {
      "text/plain": [
       "             qid      pid                                     queries  \\\n",
       "0         188714  1000052  foods and supplements to lower blood sugar   \n",
       "1         995526  1000094    where is the federal penitentiary in ind   \n",
       "2         660957  1000115       what foods are good if you have gout?   \n",
       "3         837202  1000252    what is the nutritional value of oatmeal   \n",
       "4         130825  1000268                       definition for daring   \n",
       "...          ...      ...                                         ...   \n",
       "4364334   146812   999890   difference between coating and laminating   \n",
       "4364335  1067772   999933   what is a sabbatical policy for nonprofit   \n",
       "4364336   679360   999933                  what is a corporate bylaws   \n",
       "4364337    43781   999956               average savings per age group   \n",
       "4364338    28442   999956  at what age does the average person retire   \n",
       "\n",
       "                                                   passage  relevancy  \n",
       "0        Watch portion sizes: ■ Even healthy foods will...        0.0  \n",
       "1        It takes THOUSANDS of Macy's associates to bri...        0.0  \n",
       "2        The good news is that you will discover what g...        0.0  \n",
       "3        Oats make an easy, balanced breakfast. One cup...        0.0  \n",
       "4        Such a requirement would have three desirable ...        0.0  \n",
       "...                                                    ...        ...  \n",
       "4364334  Examples of conformal coating capillary flow E...        0.0  \n",
       "4364335  Corporate Records for Nonprofit Corporations. ...        0.0  \n",
       "4364336  Corporate Records for Nonprofit Corporations. ...        0.0  \n",
       "4364337  When it comes to average retirement savings st...        0.0  \n",
       "4364338  When it comes to average retirement savings st...        0.0  \n",
       "\n",
       "[4364339 rows x 5 columns]"
      ],
      "text/html": [
       "<div>\n",
       "<style scoped>\n",
       "    .dataframe tbody tr th:only-of-type {\n",
       "        vertical-align: middle;\n",
       "    }\n",
       "\n",
       "    .dataframe tbody tr th {\n",
       "        vertical-align: top;\n",
       "    }\n",
       "\n",
       "    .dataframe thead th {\n",
       "        text-align: right;\n",
       "    }\n",
       "</style>\n",
       "<table border=\"1\" class=\"dataframe\">\n",
       "  <thead>\n",
       "    <tr style=\"text-align: right;\">\n",
       "      <th></th>\n",
       "      <th>qid</th>\n",
       "      <th>pid</th>\n",
       "      <th>queries</th>\n",
       "      <th>passage</th>\n",
       "      <th>relevancy</th>\n",
       "    </tr>\n",
       "  </thead>\n",
       "  <tbody>\n",
       "    <tr>\n",
       "      <th>0</th>\n",
       "      <td>188714</td>\n",
       "      <td>1000052</td>\n",
       "      <td>foods and supplements to lower blood sugar</td>\n",
       "      <td>Watch portion sizes: ■ Even healthy foods will...</td>\n",
       "      <td>0.0</td>\n",
       "    </tr>\n",
       "    <tr>\n",
       "      <th>1</th>\n",
       "      <td>995526</td>\n",
       "      <td>1000094</td>\n",
       "      <td>where is the federal penitentiary in ind</td>\n",
       "      <td>It takes THOUSANDS of Macy's associates to bri...</td>\n",
       "      <td>0.0</td>\n",
       "    </tr>\n",
       "    <tr>\n",
       "      <th>2</th>\n",
       "      <td>660957</td>\n",
       "      <td>1000115</td>\n",
       "      <td>what foods are good if you have gout?</td>\n",
       "      <td>The good news is that you will discover what g...</td>\n",
       "      <td>0.0</td>\n",
       "    </tr>\n",
       "    <tr>\n",
       "      <th>3</th>\n",
       "      <td>837202</td>\n",
       "      <td>1000252</td>\n",
       "      <td>what is the nutritional value of oatmeal</td>\n",
       "      <td>Oats make an easy, balanced breakfast. One cup...</td>\n",
       "      <td>0.0</td>\n",
       "    </tr>\n",
       "    <tr>\n",
       "      <th>4</th>\n",
       "      <td>130825</td>\n",
       "      <td>1000268</td>\n",
       "      <td>definition for daring</td>\n",
       "      <td>Such a requirement would have three desirable ...</td>\n",
       "      <td>0.0</td>\n",
       "    </tr>\n",
       "    <tr>\n",
       "      <th>...</th>\n",
       "      <td>...</td>\n",
       "      <td>...</td>\n",
       "      <td>...</td>\n",
       "      <td>...</td>\n",
       "      <td>...</td>\n",
       "    </tr>\n",
       "    <tr>\n",
       "      <th>4364334</th>\n",
       "      <td>146812</td>\n",
       "      <td>999890</td>\n",
       "      <td>difference between coating and laminating</td>\n",
       "      <td>Examples of conformal coating capillary flow E...</td>\n",
       "      <td>0.0</td>\n",
       "    </tr>\n",
       "    <tr>\n",
       "      <th>4364335</th>\n",
       "      <td>1067772</td>\n",
       "      <td>999933</td>\n",
       "      <td>what is a sabbatical policy for nonprofit</td>\n",
       "      <td>Corporate Records for Nonprofit Corporations. ...</td>\n",
       "      <td>0.0</td>\n",
       "    </tr>\n",
       "    <tr>\n",
       "      <th>4364336</th>\n",
       "      <td>679360</td>\n",
       "      <td>999933</td>\n",
       "      <td>what is a corporate bylaws</td>\n",
       "      <td>Corporate Records for Nonprofit Corporations. ...</td>\n",
       "      <td>0.0</td>\n",
       "    </tr>\n",
       "    <tr>\n",
       "      <th>4364337</th>\n",
       "      <td>43781</td>\n",
       "      <td>999956</td>\n",
       "      <td>average savings per age group</td>\n",
       "      <td>When it comes to average retirement savings st...</td>\n",
       "      <td>0.0</td>\n",
       "    </tr>\n",
       "    <tr>\n",
       "      <th>4364338</th>\n",
       "      <td>28442</td>\n",
       "      <td>999956</td>\n",
       "      <td>at what age does the average person retire</td>\n",
       "      <td>When it comes to average retirement savings st...</td>\n",
       "      <td>0.0</td>\n",
       "    </tr>\n",
       "  </tbody>\n",
       "</table>\n",
       "<p>4364339 rows × 5 columns</p>\n",
       "</div>"
      ]
     },
     "execution_count": 3,
     "metadata": {},
     "output_type": "execute_result"
    }
   ],
   "execution_count": 3
  },
  {
   "metadata": {
    "ExecuteTime": {
     "end_time": "2025-03-27T12:51:36.448864Z",
     "start_time": "2025-03-27T12:51:13.486795Z"
    }
   },
   "cell_type": "code",
   "source": [
    "validation_data = pd.read_csv('validation_data.tsv', sep='\\t',header=0,low_memory=False)\n",
    "validation_data # 1103039 rows × 5 columns"
   ],
   "id": "46c19ae345bea8e8",
   "outputs": [
    {
     "data": {
      "text/plain": [
       "             qid      pid                                            queries  \\\n",
       "0        1082792  1000084  what does the golgi apparatus do to the protei...   \n",
       "1         995825  1000492       where is the graphic card located in the cpu   \n",
       "2         995825  1000494       where is the graphic card located in the cpu   \n",
       "3        1091246  1000522                          property premises meaning   \n",
       "4        1047854  1000585                         what is printing mechanism   \n",
       "...          ...      ...                                                ...   \n",
       "1103034   176994   999706                       dynamic link library meaning   \n",
       "1103035  1089177   999765            united home life insurance phone number   \n",
       "1103036    42555   999824  average salary for primary care sports medicin...   \n",
       "1103037  1044249   999824        what is the average salary of an nba player   \n",
       "1103038    36388   999956                     average family savings account   \n",
       "\n",
       "                                                   passage  relevancy  \n",
       "0        Start studying Bonding, Carbs, Proteins, Lipid...        0.0  \n",
       "1        For example, a “PC Expansion Card” maybe the j...        0.0  \n",
       "2        The Common Cards & Buses. The most common type...        0.0  \n",
       "3        The occurrence of since tells us that the firs...        0.0  \n",
       "4        Windows desktop applications Develop Desktop t...        0.0  \n",
       "...                                                    ...        ...  \n",
       "1103034  Internet Public Library – The Internet Public ...        0.0  \n",
       "1103035  Geico Customer Service Phone Number: 1-800-861...        0.0  \n",
       "1103036  The current average NBA salary of $6.2 million...        0.0  \n",
       "1103037  The current average NBA salary of $6.2 million...        0.0  \n",
       "1103038  When it comes to average retirement savings st...        0.0  \n",
       "\n",
       "[1103039 rows x 5 columns]"
      ],
      "text/html": [
       "<div>\n",
       "<style scoped>\n",
       "    .dataframe tbody tr th:only-of-type {\n",
       "        vertical-align: middle;\n",
       "    }\n",
       "\n",
       "    .dataframe tbody tr th {\n",
       "        vertical-align: top;\n",
       "    }\n",
       "\n",
       "    .dataframe thead th {\n",
       "        text-align: right;\n",
       "    }\n",
       "</style>\n",
       "<table border=\"1\" class=\"dataframe\">\n",
       "  <thead>\n",
       "    <tr style=\"text-align: right;\">\n",
       "      <th></th>\n",
       "      <th>qid</th>\n",
       "      <th>pid</th>\n",
       "      <th>queries</th>\n",
       "      <th>passage</th>\n",
       "      <th>relevancy</th>\n",
       "    </tr>\n",
       "  </thead>\n",
       "  <tbody>\n",
       "    <tr>\n",
       "      <th>0</th>\n",
       "      <td>1082792</td>\n",
       "      <td>1000084</td>\n",
       "      <td>what does the golgi apparatus do to the protei...</td>\n",
       "      <td>Start studying Bonding, Carbs, Proteins, Lipid...</td>\n",
       "      <td>0.0</td>\n",
       "    </tr>\n",
       "    <tr>\n",
       "      <th>1</th>\n",
       "      <td>995825</td>\n",
       "      <td>1000492</td>\n",
       "      <td>where is the graphic card located in the cpu</td>\n",
       "      <td>For example, a “PC Expansion Card” maybe the j...</td>\n",
       "      <td>0.0</td>\n",
       "    </tr>\n",
       "    <tr>\n",
       "      <th>2</th>\n",
       "      <td>995825</td>\n",
       "      <td>1000494</td>\n",
       "      <td>where is the graphic card located in the cpu</td>\n",
       "      <td>The Common Cards &amp; Buses. The most common type...</td>\n",
       "      <td>0.0</td>\n",
       "    </tr>\n",
       "    <tr>\n",
       "      <th>3</th>\n",
       "      <td>1091246</td>\n",
       "      <td>1000522</td>\n",
       "      <td>property premises meaning</td>\n",
       "      <td>The occurrence of since tells us that the firs...</td>\n",
       "      <td>0.0</td>\n",
       "    </tr>\n",
       "    <tr>\n",
       "      <th>4</th>\n",
       "      <td>1047854</td>\n",
       "      <td>1000585</td>\n",
       "      <td>what is printing mechanism</td>\n",
       "      <td>Windows desktop applications Develop Desktop t...</td>\n",
       "      <td>0.0</td>\n",
       "    </tr>\n",
       "    <tr>\n",
       "      <th>...</th>\n",
       "      <td>...</td>\n",
       "      <td>...</td>\n",
       "      <td>...</td>\n",
       "      <td>...</td>\n",
       "      <td>...</td>\n",
       "    </tr>\n",
       "    <tr>\n",
       "      <th>1103034</th>\n",
       "      <td>176994</td>\n",
       "      <td>999706</td>\n",
       "      <td>dynamic link library meaning</td>\n",
       "      <td>Internet Public Library – The Internet Public ...</td>\n",
       "      <td>0.0</td>\n",
       "    </tr>\n",
       "    <tr>\n",
       "      <th>1103035</th>\n",
       "      <td>1089177</td>\n",
       "      <td>999765</td>\n",
       "      <td>united home life insurance phone number</td>\n",
       "      <td>Geico Customer Service Phone Number: 1-800-861...</td>\n",
       "      <td>0.0</td>\n",
       "    </tr>\n",
       "    <tr>\n",
       "      <th>1103036</th>\n",
       "      <td>42555</td>\n",
       "      <td>999824</td>\n",
       "      <td>average salary for primary care sports medicin...</td>\n",
       "      <td>The current average NBA salary of $6.2 million...</td>\n",
       "      <td>0.0</td>\n",
       "    </tr>\n",
       "    <tr>\n",
       "      <th>1103037</th>\n",
       "      <td>1044249</td>\n",
       "      <td>999824</td>\n",
       "      <td>what is the average salary of an nba player</td>\n",
       "      <td>The current average NBA salary of $6.2 million...</td>\n",
       "      <td>0.0</td>\n",
       "    </tr>\n",
       "    <tr>\n",
       "      <th>1103038</th>\n",
       "      <td>36388</td>\n",
       "      <td>999956</td>\n",
       "      <td>average family savings account</td>\n",
       "      <td>When it comes to average retirement savings st...</td>\n",
       "      <td>0.0</td>\n",
       "    </tr>\n",
       "  </tbody>\n",
       "</table>\n",
       "<p>1103039 rows × 5 columns</p>\n",
       "</div>"
      ]
     },
     "execution_count": 4,
     "metadata": {},
     "output_type": "execute_result"
    }
   ],
   "execution_count": 4
  },
  {
   "metadata": {
    "ExecuteTime": {
     "end_time": "2025-03-27T12:51:39.755152Z",
     "start_time": "2025-03-27T12:51:36.493496Z"
    }
   },
   "cell_type": "code",
   "source": [
    "nltk.download('stopwords', quiet=True)\n",
    "nltk.download('wordnet', quiet=True)\n",
    "nltk.download('omw-1.4', quiet=True)\n",
    "\n",
    "stop_words = set(stopwords.words('english'))\n",
    "lemmatizer = WordNetLemmatizer()\n",
    "stemmer = SnowballStemmer(\"english\")\n",
    "tokenizer = RegexpTokenizer(r'\\s+', gaps=True)"
   ],
   "id": "ed4c8f8acfc967a",
   "outputs": [],
   "execution_count": 5
  },
  {
   "metadata": {
    "ExecuteTime": {
     "end_time": "2025-03-27T12:51:39.802761Z",
     "start_time": "2025-03-27T12:51:39.797306Z"
    }
   },
   "cell_type": "code",
   "source": [
    "def preprocess_text(text, remove_stopwords=True, use_lemma=True, use_stem=False):\n",
    "    \"\"\"\n",
    "    Preprocesses a single string:\n",
    "      1. Lowercase\n",
    "      2. Remove punctuation\n",
    "      3. Remove non-alphabetic chars\n",
    "      4. Tokenize on whitespace\n",
    "      5. Remove stopwords (if remove_stopwords=True)\n",
    "      6. Lemmatize (if use_lemma=True) \n",
    "      7. Stem (if use_stem=True)\n",
    "    Returns a list of tokens.\n",
    "    \"\"\"\n",
    "    # Lowercase\n",
    "    text = text.lower()\n",
    "    # Remove punctuation\n",
    "    text = re.sub(f\"[{re.escape(string.punctuation)}]\", \" \", text)\n",
    "    # Remove non-alphabetic chars\n",
    "    text = re.sub(r'[^a-z\\s]', ' ', text)\n",
    "    # Remove extra spaces\n",
    "    text = re.sub(r'\\s+', ' ', text).strip()\n",
    "\n",
    "    tokens = tokenizer.tokenize(text)\n",
    "\n",
    "    if remove_stopwords:\n",
    "        tokens = [t for t in tokens if t not in stop_words]\n",
    "\n",
    "    if use_lemma:\n",
    "        tokens = [lemmatizer.lemmatize(t) for t in tokens]\n",
    "\n",
    "    if use_stem:\n",
    "        tokens = [stemmer.stem(t) for t in tokens]\n",
    "\n",
    "    return tokens"
   ],
   "id": "53cd9914122ac0d7",
   "outputs": [],
   "execution_count": 6
  },
  {
   "metadata": {
    "ExecuteTime": {
     "end_time": "2025-03-27T12:55:33.497539Z",
     "start_time": "2025-03-27T12:51:39.825573Z"
    }
   },
   "cell_type": "code",
   "source": [
    "clean_validation_query = validation_data[\"queries\"].apply(\n",
    "    lambda x: preprocess_text(x, remove_stopwords=True, use_lemma=True, use_stem=False)\n",
    ")   \n",
    "\n",
    "clean_validation_passage = validation_data[\"passage\"].apply(\n",
    "    lambda x: preprocess_text(x, remove_stopwords=True, use_lemma=True, use_stem=False)\n",
    ")"
   ],
   "id": "94f1b069383df301",
   "outputs": [],
   "execution_count": 7
  },
  {
   "metadata": {
    "ExecuteTime": {
     "end_time": "2025-03-27T12:55:34.201223Z",
     "start_time": "2025-03-27T12:55:33.534707Z"
    }
   },
   "cell_type": "code",
   "source": [
    "# 1148 qids and queries\n",
    "qid_query_valid = dict(zip(validation_data.qid,clean_validation_query))\n",
    "# print(len(qid_query_valid))\n",
    "# 955211 pids and passage\n",
    "pid_passage_valid = dict(zip(validation_data.pid,clean_validation_passage)) \n",
    "# print(len(pid_passage_valid))"
   ],
   "id": "fffbaf5eed0f1e3f",
   "outputs": [],
   "execution_count": 8
  },
  {
   "metadata": {},
   "cell_type": "markdown",
   "source": "# Task 1 Evaluating Retrieval Quality.",
   "id": "e0d53c592320dc39"
  },
  {
   "metadata": {
    "ExecuteTime": {
     "end_time": "2025-03-27T12:55:34.287019Z",
     "start_time": "2025-03-27T12:55:34.283050Z"
    }
   },
   "cell_type": "code",
   "source": [
    "def build_inverted_index(pid_passage_dict):\n",
    "    \"\"\"\n",
    "    Builds an inverted index of the form:\n",
    "        { token: { pid: frequency_in_that_passage, ... }, ... }\n",
    "    \"\"\"\n",
    "    inverted_index = defaultdict(dict)\n",
    "    for pid, tokens in pid_passage_dict.items():\n",
    "        freq_counter = Counter(tokens)\n",
    "        for token, freq in freq_counter.items():\n",
    "            inverted_index[token][pid] = freq\n",
    "    return inverted_index"
   ],
   "id": "41bdd1897fca4cc5",
   "outputs": [],
   "execution_count": 9
  },
  {
   "metadata": {
    "ExecuteTime": {
     "end_time": "2025-03-27T12:55:48.310185Z",
     "start_time": "2025-03-27T12:55:34.369835Z"
    }
   },
   "cell_type": "code",
   "source": "inverted_index = build_inverted_index(pid_passage_valid)",
   "id": "33e511c7a347f690",
   "outputs": [],
   "execution_count": 10
  },
  {
   "metadata": {
    "ExecuteTime": {
     "end_time": "2025-03-27T12:55:54.293368Z",
     "start_time": "2025-03-27T12:55:53.975483Z"
    }
   },
   "cell_type": "code",
   "source": [
    "length = 0\n",
    "for pid in pid_passage_valid.keys():\n",
    "    length += len(pid_passage_valid[pid])\n",
    "avdl = length/len(pid_passage_valid.keys()) # 32.706829171774615\n",
    "N = len(validation_data) # 1103039\n",
    "print(avdl)\n",
    "print(N)"
   ],
   "id": "b79e816152a5264c",
   "outputs": [
    {
     "name": "stdout",
     "output_type": "stream",
     "text": [
      "32.706829171774615\n",
      "1103039\n"
     ]
    }
   ],
   "execution_count": 11
  },
  {
   "metadata": {
    "ExecuteTime": {
     "end_time": "2025-03-27T12:56:00.123977Z",
     "start_time": "2025-03-27T12:55:59.966770Z"
    }
   },
   "cell_type": "code",
   "source": [
    "qid_list = list(validation_data.qid)\n",
    "pid_list = list(validation_data.pid)\n",
    "def qid_to_pid(qid,qid_list,pid_list):\n",
    "    pid = []\n",
    "    index = [i for i,x in enumerate(qid_list) if x == qid ]\n",
    "    for i in range(len(index)):\n",
    "        pid.append(pid_list[index[i]])\n",
    "    return pid,index"
   ],
   "id": "9c5a4b3d316f0341",
   "outputs": [],
   "execution_count": 12
  },
  {
   "metadata": {
    "ExecuteTime": {
     "end_time": "2025-03-27T12:56:05.873704Z",
     "start_time": "2025-03-27T12:56:05.865274Z"
    }
   },
   "cell_type": "code",
   "source": [
    "def bm25_score(qid,pid_passage_dict,qid_query_dict,inverted_index,k1=1.2,k2=100,b=0.75,cutoff=100):\n",
    "    \"\"\"\n",
    "        A BM25 function\n",
    "        Inputs:\n",
    "          qid: query id\n",
    "          pid_passage_dict: dictionary with a format of {pid:passage}\n",
    "          qid_query_dict: dictionary with a format of {qid:query}\n",
    "          inverted_index: dictionary with a format of {token: repeat times}\n",
    "        Outputs:\n",
    "          top100_score: dictionary with a format of {pid: BM25 scores}\n",
    "    \"\"\"\n",
    "    query = qid_query_dict[qid] # qid query\n",
    "    pids,ind = qid_to_pid(qid,qid_list,pid_list) # coresponding pid\n",
    "    count_words_q = Counter(query)\n",
    "    tokens = count_words_q.most_common(len(count_words_q))\n",
    "    score_list = {}\n",
    "    for j in range(len(pids)):\n",
    "        pid = pids[j]\n",
    "        passage = pid_passage_dict[pid] # passage\n",
    "        dl = len(passage)\n",
    "        K = k1*((1-b)+b*dl/avdl)\n",
    "        score = 0\n",
    "        for i in range(len(tokens)):\n",
    "            token = tokens[i][0]\n",
    "            qfi = tokens[i][1]\n",
    "            if token in passage:\n",
    "                fi = inverted_index[token][pid]\n",
    "                ni = len(inverted_index[token])\n",
    "            else:\n",
    "                fi = 0\n",
    "                ni = 0\n",
    "            score += np.log( ((0+0.5)/(0-0+0.5)) /((ni-0+0.5)/(N-ni-0))) * (k1+1)*fi*(k2+1)*qfi / ((K+fi)*(k2+qfi))\n",
    "        Scores = {pid:score}\n",
    "        score_list = {**score_list ,**Scores}\n",
    "    top100_score = dict(sorted(score_list.items(), key=lambda x: x[1], reverse=True)[:cutoff])\n",
    "    return top100_score"
   ],
   "id": "5d17e770f394d492",
   "outputs": [],
   "execution_count": 13
  },
  {
   "metadata": {
    "ExecuteTime": {
     "end_time": "2025-03-27T12:59:12.463189Z",
     "start_time": "2025-03-27T12:56:11.656208Z"
    }
   },
   "cell_type": "code",
   "source": [
    "bm25_score_100 = {}\n",
    "for qid in qid_query_valid.keys():\n",
    "    top100_bm25 = bm25_score(qid,pid_passage_valid,qid_query_valid,inverted_index,k1=1.2,k2=100,b=0.75,cutoff=100)\n",
    "    Scores = {qid:top100_bm25}\n",
    "    bm25_score_100 = {**bm25_score_100 ,**Scores}\n",
    "\n",
    "bm25_score_20 = {}\n",
    "for qid in qid_query_valid.keys():\n",
    "    top20_bm25 = bm25_score(qid,pid_passage_valid,qid_query_valid,inverted_index,k1=1.2,k2=100,b=0.75,cutoff=20)\n",
    "    Scores = {qid:top20_bm25}\n",
    "    bm25_score_20 = {**bm25_score_20 ,**Scores}"
   ],
   "id": "adecf3306141cee9",
   "outputs": [],
   "execution_count": 14
  },
  {
   "metadata": {
    "ExecuteTime": {
     "end_time": "2025-03-27T12:59:18.129799Z",
     "start_time": "2025-03-27T12:59:18.123848Z"
    }
   },
   "cell_type": "code",
   "source": [
    "def Relevant_dict(data):\n",
    "    \"\"\"\n",
    "        A relevant and irrelevant passage function\n",
    "        Inputs:\n",
    "          data: input dataset\n",
    "        Outputs:\n",
    "          relevant_dict: relevant passage dictionary with a format of {qid: {pid, position}}\n",
    "          irrelevant_dict: irrelevant passage dictionary with a format of {qid: {pid, position}}\n",
    "    \"\"\"\n",
    "    qid_list = data.qid\n",
    "    pid_list = data.pid\n",
    "    relevancy_list = data.relevancy\n",
    "    relevant_dict = {}\n",
    "    irrelevant_dict = {}\n",
    "    for ind,qid in enumerate(qid_list):\n",
    "        pid = pid_list[ind]\n",
    "        relevancy = relevancy_list[ind]\n",
    "        if relevancy > 0:\n",
    "            if qid not in relevant_dict.keys():\n",
    "                relevant_dict[qid] = {pid:ind}\n",
    "            elif qid in relevant_dict.keys():\n",
    "                new_pid = {pid:ind}\n",
    "                relevant_dict[qid].update(new_pid)\n",
    "        else:\n",
    "            if qid not in irrelevant_dict.keys():\n",
    "                irrelevant_dict[qid] = {pid:ind}\n",
    "            elif qid in irrelevant_dict.keys():\n",
    "                new_pid = {pid:ind}\n",
    "                irrelevant_dict[qid].update(new_pid)\n",
    "\n",
    "    return relevant_dict,irrelevant_dict"
   ],
   "id": "11bfaac51ab99407",
   "outputs": [],
   "execution_count": 15
  },
  {
   "metadata": {
    "ExecuteTime": {
     "end_time": "2025-03-27T12:59:28.786125Z",
     "start_time": "2025-03-27T12:59:23.801899Z"
    }
   },
   "cell_type": "code",
   "source": "valid_relevant_dict, valid_irrelevant_dict = Relevant_dict(validation_data)",
   "id": "bf3a91f909f57136",
   "outputs": [],
   "execution_count": 16
  },
  {
   "metadata": {},
   "cell_type": "markdown",
   "source": "## AP and MAP",
   "id": "5e8921e34224a150"
  },
  {
   "metadata": {
    "ExecuteTime": {
     "end_time": "2025-03-27T12:59:34.588162Z",
     "start_time": "2025-03-27T12:59:34.564852Z"
    }
   },
   "cell_type": "code",
   "source": [
    "def mean_AP(model):\n",
    "    \"\"\"\n",
    "        A mean average precision function\n",
    "        Inputs:\n",
    "          model: retrivel systems\n",
    "        Outputs:\n",
    "           np.mean(AP): mean average precision\n",
    "           AP: a list containing APs for each query\n",
    "    \"\"\"\n",
    "    AP = []\n",
    "    qid_list = model.keys()\n",
    "    \n",
    "    # for each query\n",
    "    for qid in qid_list: \n",
    "        # find all the relevant pid for this qid\n",
    "        rel_pid = valid_relevant_dict[qid]\n",
    "        \n",
    "        # if the model does not retrieve any relevant pid, Precision is 0\n",
    "        fail_to_find = [False for i in rel_pid.keys() if i not in model[qid].keys()]\n",
    "        if fail_to_find:\n",
    "            metric = 0\n",
    "        \n",
    "        # if the model retrieves relevant pids\n",
    "        else:\n",
    "            RR = 0  # RR      Relevant Retrieved\n",
    "            TR = 0  # TR      Current Ranking\n",
    "            Precision = 0\n",
    "            \n",
    "            # for each pid retrieved for this qid\n",
    "            for i in model[qid].keys():\n",
    "                TR += 1\n",
    "                # if retrieved a relevant pid, RR add 1, Precision = RR/TR * relevancy\n",
    "                if i in rel_pid.keys():\n",
    "                    RR += 1\n",
    "                    rel_series = validation_data[rel_pid[i]:rel_pid[i]+1].relevancy\n",
    "                    rel = float(rel_series.iloc[0])\n",
    "                    Precision += RR / TR * rel\n",
    "                \n",
    "                # if retrieved a relevant pid, RR add 1, Precision = RR/TR\n",
    "                else:\n",
    "                    Precision += 0 \n",
    "                    \n",
    "                # if finding all the relevant pids, stop\n",
    "                if RR == len(rel_pid.keys()):\n",
    "                    break   \n",
    "                    \n",
    "            # average precision\n",
    "            metric = Precision / RR \n",
    "        \n",
    "        AP.append(metric)\n",
    "    \n",
    "    return  np.mean(AP), AP\n"
   ],
   "id": "8b4ddc070578c53a",
   "outputs": [],
   "execution_count": 17
  },
  {
   "metadata": {
    "ExecuteTime": {
     "end_time": "2025-03-27T12:59:40.553131Z",
     "start_time": "2025-03-27T12:59:40.483931Z"
    }
   },
   "cell_type": "code",
   "source": [
    "mAP_100, AP_100 = mean_AP(bm25_score_100)\n",
    "float(mAP_100)"
   ],
   "id": "99b19c14b52710e0",
   "outputs": [
    {
     "data": {
      "text/plain": [
       "0.2412475555828191"
      ]
     },
     "execution_count": 18,
     "metadata": {},
     "output_type": "execute_result"
    }
   ],
   "execution_count": 18
  },
  {
   "metadata": {
    "ExecuteTime": {
     "end_time": "2025-03-27T12:59:46.403769Z",
     "start_time": "2025-03-27T12:59:46.352687Z"
    }
   },
   "cell_type": "code",
   "source": [
    "mAP_20, AP_20 = mean_AP(bm25_score_20)\n",
    "float(mAP_20)"
   ],
   "id": "72acc83f121bf76c",
   "outputs": [
    {
     "data": {
      "text/plain": [
       "0.23447725480180634"
      ]
     },
     "execution_count": 19,
     "metadata": {},
     "output_type": "execute_result"
    }
   ],
   "execution_count": 19
  },
  {
   "metadata": {},
   "cell_type": "markdown",
   "source": "## ndcg and mean_ndcg",
   "id": "623ecfef5275483b"
  },
  {
   "metadata": {
    "ExecuteTime": {
     "end_time": "2025-03-27T12:59:52.685383Z",
     "start_time": "2025-03-27T12:59:52.674967Z"
    }
   },
   "cell_type": "code",
   "source": [
    "def mean_NDCG(model):\n",
    "    \"\"\"\n",
    "        A mean NDCG function\n",
    "        Inputs:\n",
    "          model: retrivel systems\n",
    "        Outputs:\n",
    "           np.mean(NDCG): mean NDCG\n",
    "           NDCG: a list containing NDCGs for each query\n",
    "    \"\"\"\n",
    "    NDCG = []\n",
    "    qid_list = model.keys()\n",
    "    \n",
    "    # for each query\n",
    "    for qid in qid_list:\n",
    "        # find all the relevant pid for this qid\n",
    "        rel_pid = valid_relevant_dict[qid]\n",
    "        \n",
    "        # if the model does not retrieve any relevant pid, NDCG is 0\n",
    "        fail_to_find = [False for i in rel_pid.keys() if i not in model[qid].keys()]\n",
    "        if fail_to_find:\n",
    "            metric = 0   \n",
    "            \n",
    "        # if the model retrieves relevant pids\n",
    "        else:\n",
    "            opt_dict = {} # create a list to store the perfect ranking\n",
    "            \n",
    "            # for each pid in relevant pid for this qid\n",
    "            for i in rel_pid.keys():\n",
    "                DCG = 0\n",
    "                \n",
    "                # if the relevant pid is retrieved, DCG = (2^rel-1)/log_2(rank+1)\n",
    "                if i in model[qid].keys():\n",
    "                    rel_series = validation_data[rel_pid[i]:rel_pid[i]+1].relevancy\n",
    "                    rel = float(rel_series.iloc[0])\n",
    "                    rank = list(model[qid].keys()).index(i) + 1\n",
    "                    DCG += (2**rel-1) / np.log2(rank + 1)\n",
    "                    \n",
    "                # rerank by optimal ranking\n",
    "                for ind in rel_pid.values():\n",
    "                    opt = {i:validation_data.relevancy[ind]}\n",
    "                    opt_dict = {**opt_dict,**opt} \n",
    "                Opt_dict = [(k,opt_dict[k]) for k in sorted(opt_dict.keys(),reverse = True)] \n",
    "                \n",
    "                opt_DCG = 0 \n",
    "                for i in range(len(Opt_dict)):\n",
    "                    rel = Opt_dict[i][1]\n",
    "                    rank = i+1\n",
    "                    opt_DCG += (2**rel-1) / np.log2(rank + 1)\n",
    "            \n",
    "            # NDCG\n",
    "            metric = DCG / opt_DCG\n",
    "        \n",
    "        NDCG.append(metric)\n",
    "        \n",
    "    return np.mean(NDCG), NDCG "
   ],
   "id": "5a8675fc81d841b0",
   "outputs": [],
   "execution_count": 20
  },
  {
   "metadata": {
    "ExecuteTime": {
     "end_time": "2025-03-27T12:59:58.611404Z",
     "start_time": "2025-03-27T12:59:58.519653Z"
    }
   },
   "cell_type": "code",
   "source": [
    "mNDCG_100, NDCG_100 = mean_NDCG(bm25_score_100)\n",
    "float(mNDCG_100)"
   ],
   "id": "8acfa902fbbe8618",
   "outputs": [
    {
     "data": {
      "text/plain": [
       "0.35045423692730665"
      ]
     },
     "execution_count": 21,
     "metadata": {},
     "output_type": "execute_result"
    }
   ],
   "execution_count": 21
  },
  {
   "metadata": {
    "ExecuteTime": {
     "end_time": "2025-03-27T13:00:04.549825Z",
     "start_time": "2025-03-27T13:00:04.478408Z"
    }
   },
   "cell_type": "code",
   "source": [
    "mNDCG_20, NDCG_20 = mean_NDCG(bm25_score_20)\n",
    "float(mNDCG_20)"
   ],
   "id": "6ddd772103e6ffe0",
   "outputs": [
    {
     "data": {
      "text/plain": [
       "0.31197516347958"
      ]
     },
     "execution_count": 22,
     "metadata": {},
     "output_type": "execute_result"
    }
   ],
   "execution_count": 22
  },
  {
   "metadata": {},
   "cell_type": "markdown",
   "source": "# Task2: Logistic Regression (LR).",
   "id": "c57ab8e50f20ce21"
  },
  {
   "metadata": {},
   "cell_type": "markdown",
   "source": "## Subsampling train_data",
   "id": "96d115410ec615ea"
  },
  {
   "metadata": {
    "ExecuteTime": {
     "end_time": "2025-03-27T13:00:10.470348Z",
     "start_time": "2025-03-27T13:00:10.465389Z"
    }
   },
   "cell_type": "code",
   "source": [
    "def subsample_train_data(df, frac=0.05):\n",
    "    positives = df[df['relevancy'] > 0]\n",
    "    negatives = df[df['relevancy'] == 0].sample(frac=frac, random_state=42)\n",
    "    return pd.concat([positives, negatives]).sample(frac=1, random_state=42).reset_index(drop=True)"
   ],
   "id": "2569deccf05f14b5",
   "outputs": [],
   "execution_count": 23
  },
  {
   "metadata": {
    "ExecuteTime": {
     "end_time": "2025-03-27T13:00:17.163504Z",
     "start_time": "2025-03-27T13:00:16.456379Z"
    }
   },
   "cell_type": "code",
   "source": "train_data_subsampled = subsample_train_data(train_data)",
   "id": "98ac308f9b83584",
   "outputs": [],
   "execution_count": 24
  },
  {
   "metadata": {
    "ExecuteTime": {
     "end_time": "2025-03-27T13:04:58.973614Z",
     "start_time": "2025-03-27T13:00:23.212491Z"
    }
   },
   "cell_type": "code",
   "source": [
    "train_data_subsampled['clean_query'] = train_data_subsampled['queries'].apply(preprocess_text)\n",
    "train_data_subsampled['clean_passage'] = train_data_subsampled['passage'].apply(preprocess_text)\n",
    "\n",
    "validation_data['clean_query'] = validation_data['queries'].apply(preprocess_text)\n",
    "validation_data['clean_passage'] = validation_data['passage'].apply(preprocess_text)"
   ],
   "id": "999f79fc9d4c1b27",
   "outputs": [],
   "execution_count": 25
  },
  {
   "metadata": {},
   "cell_type": "markdown",
   "source": "##  Embedding Preparation (Unified Corpus)",
   "id": "931f6863b750998a"
  },
  {
   "metadata": {
    "ExecuteTime": {
     "end_time": "2025-03-27T13:06:25.984480Z",
     "start_time": "2025-03-27T13:05:05.104925Z"
    }
   },
   "cell_type": "code",
   "source": [
    "combined_corpus = pd.concat([train_data_subsampled['clean_query'], train_data_subsampled['clean_passage']])\n",
    "\n",
    "with open('combined_corpus.txt', 'w') as f:\n",
    "    for tokens in combined_corpus:\n",
    "        f.write(' '.join(tokens) + '\\n')\n",
    "\n",
    "sentences = LineSentence('combined_corpus.txt')\n",
    "word2vec_model = Word2Vec(sentences, sg=1, vector_size=100, window=5, min_count=1, negative=5, hs=0, workers=4)"
   ],
   "id": "3f66e9b802fb78b6",
   "outputs": [],
   "execution_count": 26
  },
  {
   "metadata": {},
   "cell_type": "markdown",
   "source": "## Embedding Calculation",
   "id": "3eb05e266383e0d4"
  },
  {
   "metadata": {
    "ExecuteTime": {
     "end_time": "2025-03-27T13:08:09.544329Z",
     "start_time": "2025-03-27T13:06:31.912488Z"
    }
   },
   "cell_type": "code",
   "source": [
    "def compute_embeddings(data, model):\n",
    "    embeddings = {}\n",
    "    for idx, tokens in data.items():\n",
    "        vectors = [model.wv[token] for token in tokens if token in model.wv]\n",
    "        embeddings[idx] = np.mean(vectors, axis=0) if vectors else np.zeros(model.vector_size)\n",
    "    return embeddings\n",
    "\n",
    "qid_query_train = dict(zip(train_data_subsampled.qid, train_data_subsampled.clean_query))\n",
    "pid_passage_train = dict(zip(train_data_subsampled.pid, train_data_subsampled.clean_passage))\n",
    "\n",
    "qid_query_valid = dict(zip(validation_data.qid, validation_data.clean_query))\n",
    "pid_passage_valid = dict(zip(validation_data.pid, validation_data.clean_passage))\n",
    "\n",
    "train_query_embs = compute_embeddings(qid_query_train, word2vec_model)\n",
    "train_passage_embs = compute_embeddings(pid_passage_train, word2vec_model)\n",
    "valid_query_embs = compute_embeddings(qid_query_valid, word2vec_model)\n",
    "valid_passage_embs = compute_embeddings(pid_passage_valid, word2vec_model)"
   ],
   "id": "b50c27a0f6538125",
   "outputs": [],
   "execution_count": 27
  },
  {
   "metadata": {},
   "cell_type": "markdown",
   "source": "## Feature Matrix Construction ",
   "id": "5f2cce57d69b2476"
  },
  {
   "metadata": {
    "ExecuteTime": {
     "end_time": "2025-03-27T13:08:26.882586Z",
     "start_time": "2025-03-27T13:08:15.694093Z"
    }
   },
   "cell_type": "code",
   "source": [
    "def build_feature_matrix(df, query_embs, passage_embs):\n",
    "    X, y = [], []\n",
    "    for _, row in df.iterrows():\n",
    "        q_emb = query_embs[row['qid']]\n",
    "        p_emb = passage_embs[row['pid']]\n",
    "        X.append(np.concatenate([q_emb, p_emb]))\n",
    "        y.append(1 if row['relevancy'] > 0 else 0)\n",
    "    return np.array(X), np.array(y)\n",
    "\n",
    "X_train, y_train = build_feature_matrix(train_data_subsampled, train_query_embs, train_passage_embs)"
   ],
   "id": "f8d12de4eea785f",
   "outputs": [],
   "execution_count": 28
  },
  {
   "metadata": {},
   "cell_type": "markdown",
   "source": "## Model Evaluate",
   "id": "daf13c268e387091"
  },
  {
   "metadata": {
    "ExecuteTime": {
     "end_time": "2025-03-27T13:08:32.833175Z",
     "start_time": "2025-03-27T13:08:32.826727Z"
    }
   },
   "cell_type": "code",
   "source": [
    "def sigmoid(z):\n",
    "    return 1.0 / (1.0 + np.exp(-z))\n",
    "\n",
    "def compute_gradient(X, y, weights):\n",
    "    preds = sigmoid(np.dot(X, weights))\n",
    "    return np.dot(X.T, (preds - y)) / len(y)\n",
    "\n",
    "def logistic_regression_train(X, y, learning_rate=0.01, num_iterations=3000):\n",
    "    weights = np.zeros(X.shape[1])\n",
    "    loss_history = []\n",
    "    for i in range(num_iterations):\n",
    "        gradient = compute_gradient(X, y, weights)\n",
    "        weights -= learning_rate * gradient\n",
    "        preds = sigmoid(np.dot(X, weights))\n",
    "        loss = -np.mean(y * np.log(preds + 1e-8) + (1 - y) * np.log(1 - preds + 1e-8))\n",
    "        loss_history.append(loss)\n",
    "    return weights, loss_history"
   ],
   "id": "9a232cbd09ab089a",
   "outputs": [],
   "execution_count": 29
  },
  {
   "metadata": {},
   "cell_type": "markdown",
   "source": "## Experiment learning rate",
   "id": "a671b5b44f6bcfab"
  },
  {
   "metadata": {
    "ExecuteTime": {
     "end_time": "2025-03-27T13:08:40.882286Z",
     "start_time": "2025-03-27T13:08:38.944679Z"
    }
   },
   "cell_type": "code",
   "source": [
    "plot_filename = \"lr_experiment.png\"\n",
    "if os.path.exists(plot_filename):\n",
    "    print(f\"Plot '{plot_filename}' already exists. Displaying saved plot:\")\n",
    "    # Load the image from file and display it\n",
    "    img = plt.imread(plot_filename)\n",
    "    plt.figure(figsize=(10, 6))\n",
    "    plt.imshow(img)\n",
    "    plt.axis('off')  # Hide axes for a cleaner look\n",
    "    plt.show()\n",
    "else:\n",
    "    learning_rates = [0.01, 0.001, 0.0001]\n",
    "    lr_experiment_results = {}\n",
    "    num_iterations = 3000\n",
    "\n",
    "    for lr in learning_rates:\n",
    "        _, loss = logistic_regression_train(X_train, y_train, learning_rate=lr, num_iterations=num_iterations)\n",
    "        lr_experiment_results[lr] = loss\n",
    "\n",
    "    # Plot training loss with iterations\n",
    "    plt.figure(figsize=(10, 6))\n",
    "    for lr, loss_history in lr_experiment_results.items():\n",
    "        plt.plot(range(num_iterations), loss_history, label=f'lr = {lr}')\n",
    "\n",
    "    plt.xlabel('Iterations')\n",
    "    plt.ylabel('Training Loss')\n",
    "    plt.title('Training Loss for Different Learning Rates')\n",
    "    plt.legend()\n",
    "    plt.grid(True)\n",
    "    \n",
    "    # Save the figure\n",
    "    plt.savefig(plot_filename, dpi=300)\n",
    "    plt.show()"
   ],
   "id": "4f7394a37bedad9b",
   "outputs": [
    {
     "name": "stdout",
     "output_type": "stream",
     "text": [
      "Plot 'lr_experiment.png' already exists. Displaying saved plot:\n"
     ]
    },
    {
     "data": {
      "text/plain": [
       "<Figure size 1000x600 with 1 Axes>"
      ],
      "image/png": "[encoded data removed]"
     },
     "metadata": {},
     "output_type": "display_data"
    }
   ],
   "execution_count": 30
  },
  {
   "metadata": {
    "ExecuteTime": {
     "end_time": "2025-03-27T13:12:26.250453Z",
     "start_time": "2025-03-27T13:08:46.847982Z"
    }
   },
   "cell_type": "code",
   "source": [
    "# 1. Train Logistic Regression\n",
    "weights_lr, loss_history_lr = logistic_regression_train(\n",
    "    X_train, y_train, \n",
    "    learning_rate=0.01, \n",
    "    num_iterations=3000\n",
    ")\n",
    "\n",
    "# 2. Build Validation Feature Matrix\n",
    "validation_data_sorted = validation_data.sort_values('qid')\n",
    "X_valid_lr, y_valid_lr = build_feature_matrix(validation_data_sorted, \n",
    "                                             valid_query_embs, \n",
    "                                             valid_passage_embs)\n",
    "\n",
    "# 3. Predict Scores (probabilities)\n",
    "lr_raw_scores = X_valid_lr @ weights_lr\n",
    "lr_probs = sigmoid(lr_raw_scores)\n",
    "\n",
    "# 4. Create Ranking Dictionary for top-100\n",
    "validation_data_sorted = validation_data_sorted.copy()\n",
    "validation_data_sorted['lr_score'] = lr_probs\n",
    "\n",
    "ranking_dict_lr = {}\n",
    "for qid, group_df in validation_data_sorted.groupby('qid'):\n",
    "    pid_scores = dict(zip(group_df['pid'], group_df['lr_score']))\n",
    "    # Sort and truncate at top-100\n",
    "    pid_scores_sorted = dict(sorted(pid_scores.items(), \n",
    "                                    key=lambda x: x[1], \n",
    "                                    reverse=True)[:100])\n",
    "    ranking_dict_lr[qid] = pid_scores_sorted\n",
    "\n",
    "# 5. Evaluate using mean_AP and mean_NDCG\n",
    "mAP_lr, AP_lr = mean_AP(ranking_dict_lr)\n",
    "mNDCG_lr, NDCG_lr = mean_NDCG(ranking_dict_lr)\n",
    "\n",
    "print(\"Logistic Regression (cutoff=100):\")\n",
    "print(\"mAP:\", mAP_lr)\n",
    "print(\"mNDCG:\", mNDCG_lr)"
   ],
   "id": "e86273b1c468b7c0",
   "outputs": [
    {
     "name": "stdout",
     "output_type": "stream",
     "text": [
      "Logistic Regression (cutoff=100):\n",
      "mAP: 0.008647071369628893\n",
      "mNDCG: 0.02986902103150239\n"
     ]
    }
   ],
   "execution_count": 31
  },
  {
   "metadata": {},
   "cell_type": "markdown",
   "source": "## Apply LR on \"candidate_passages_top1000.tsv\"",
   "id": "181e93120be74cf2"
  },
  {
   "metadata": {
    "ExecuteTime": {
     "end_time": "2025-03-27T13:12:35.070757Z",
     "start_time": "2025-03-27T13:12:32.380199Z"
    }
   },
   "cell_type": "code",
   "source": [
    "# Load test queries with explicit column names\n",
    "test_queries = pd.read_csv('test-queries.tsv', sep='\\t', header=None, names=['qid', 'query'])\n",
    "# Load candidate passages with explicit column names (format: qid, pid, query, passage)\n",
    "candidates = pd.read_csv('candidate_passages_top1000.tsv', sep='\\t', header=None, \n",
    "                         names=['qid', 'pid', 'query', 'passage'])"
   ],
   "id": "fcba96fac6f9168a",
   "outputs": [],
   "execution_count": 32
  },
  {
   "metadata": {
    "ExecuteTime": {
     "end_time": "2025-03-27T13:13:19.844890Z",
     "start_time": "2025-03-27T13:12:41.313311Z"
    }
   },
   "cell_type": "code",
   "source": [
    "# ------------------- Preprocessing -------------------\n",
    "# Preprocess test queries\n",
    "test_queries['clean_query'] = test_queries['query'].apply(lambda x: preprocess_text(x))\n",
    "# Preprocess candidate passages: we need both the candidate \"query\" and \"passage\" fields\n",
    "candidates['clean_query'] = candidates['query'].apply(lambda x: preprocess_text(x))\n",
    "candidates['clean_passage'] = candidates['passage'].apply(lambda x: preprocess_text(x))\n",
    "# Add a dummy relevancy column (not used for scoring, but required by build_feature_matrix)\n",
    "candidates['relevancy'] = 0"
   ],
   "id": "ef4aedb3895c98b2",
   "outputs": [],
   "execution_count": 33
  },
  {
   "metadata": {
    "ExecuteTime": {
     "end_time": "2025-03-27T13:13:40.770967Z",
     "start_time": "2025-03-27T13:13:25.889252Z"
    }
   },
   "cell_type": "code",
   "source": [
    "# Build dictionaries for test queries and candidate passages\n",
    "qid_query_test = dict(zip(test_queries.qid, test_queries['clean_query']))\n",
    "pid_passage_test = dict(zip(candidates.pid, candidates['clean_passage']))\n",
    "\n",
    "# Compute embeddings for test queries and candidate passages using your pre-trained Word2Vec model\n",
    "test_query_embs = compute_embeddings(qid_query_test, word2vec_model)\n",
    "test_passage_embs = compute_embeddings(pid_passage_test, word2vec_model)"
   ],
   "id": "a0477c48ede3cedc",
   "outputs": [],
   "execution_count": 34
  },
  {
   "metadata": {},
   "cell_type": "markdown",
   "source": "## \"LR.txt\"",
   "id": "7cf8d2cf5c7de178"
  },
  {
   "metadata": {
    "ExecuteTime": {
     "end_time": "2025-03-27T13:13:56.409466Z",
     "start_time": "2025-03-27T13:13:46.817908Z"
    }
   },
   "cell_type": "code",
   "source": [
    "# Build feature matrix for LR model (concatenation of query and passage embeddings)\n",
    "X_test_lr, _ = build_feature_matrix(candidates, test_query_embs, test_passage_embs)\n",
    "# Compute LR raw scores using your trained logistic regression weights and apply the sigmoid function\n",
    "candidates['lr_score'] = sigmoid(np.dot(X_test_lr, weights_lr))\n",
    "\n",
    "# Build ranking dictionary for LR\n",
    "ranking_dict_lr_test = {}\n",
    "for qid, group_df in candidates.groupby('qid'):\n",
    "    pid_scores = dict(zip(group_df['pid'], group_df['lr_score']))\n",
    "    # Sort by descending score and keep the top 100 passages\n",
    "    pid_scores_sorted = dict(sorted(pid_scores.items(), key=lambda x: x[1], reverse=True)[:100])\n",
    "    ranking_dict_lr_test[qid] = pid_scores_sorted\n",
    "\n",
    "# Write LR submission file (LR.txt)\n",
    "with open('LR.txt', 'w') as f:\n",
    "    for qid in sorted(ranking_dict_lr_test.keys()):\n",
    "        pid_scores = ranking_dict_lr_test[qid]\n",
    "        sorted_items = sorted(pid_scores.items(), key=lambda x: x[1], reverse=True)\n",
    "        for rank, (pid, score) in enumerate(sorted_items, start=1):\n",
    "            f.write(f\"{qid} A2 {pid} {rank} {score} LR\\n\")"
   ],
   "id": "c2dd5b182272288e",
   "outputs": [],
   "execution_count": 35
  },
  {
   "metadata": {},
   "cell_type": "markdown",
   "source": "# Task 3: LambdaMART Model (LM)",
   "id": "1f65cd5b69e98c83"
  },
  {
   "metadata": {},
   "cell_type": "markdown",
   "source": "## Construct 3-Dimensional Feature Vectors",
   "id": "679ee1de480ec377"
  },
  {
   "metadata": {
    "ExecuteTime": {
     "end_time": "2025-03-27T13:14:02.487500Z",
     "start_time": "2025-03-27T13:14:02.471631Z"
    }
   },
   "cell_type": "code",
   "source": [
    "def compute_3d_features(q_emb, p_emb):\n",
    "    \"\"\"\n",
    "    Given a query embedding (q_emb) and passage embedding (p_emb),\n",
    "    return a 3-dimensional feature vector:\n",
    "      [ dot_product, norm(q_emb), norm(p_emb) ].\n",
    "    \"\"\"\n",
    "    dot_prod = np.dot(q_emb, p_emb)\n",
    "    q_norm = norm(q_emb)\n",
    "    p_norm = norm(p_emb)\n",
    "    return np.array([dot_prod, q_norm, p_norm])\n",
    "\n",
    "def build_3d_feature_matrix(df, query_emb_dict, passage_emb_dict):\n",
    "    \"\"\"\n",
    "    For each row (qid, pid) in df, compute the 3D feature vector.\n",
    "    Return X (features), y (labels), and a parallel list of qids for grouping.\n",
    "    \"\"\"\n",
    "    X_list = []\n",
    "    y_list = []\n",
    "    qid_list = []\n",
    "\n",
    "    for idx, row in df.iterrows():\n",
    "        qid = row['qid']\n",
    "        pid = row['pid']\n",
    "        relevancy = row['relevancy']\n",
    "        \n",
    "        # Retrieve embeddings\n",
    "        q_emb = query_emb_dict[qid]\n",
    "        p_emb = passage_emb_dict[pid]\n",
    "        \n",
    "        # Build 3D features\n",
    "        features_3d = compute_3d_features(q_emb, p_emb)\n",
    "        \n",
    "        X_list.append(features_3d)\n",
    "        y_list.append(relevancy)\n",
    "        qid_list.append(qid)\n",
    "\n",
    "    X = np.vstack(X_list)\n",
    "    y = np.array(y_list)\n",
    "    return X, y, qid_list"
   ],
   "id": "fe5b289bed7be752",
   "outputs": [],
   "execution_count": 36
  },
  {
   "metadata": {},
   "cell_type": "markdown",
   "source": "## Define Group qid and Grid Search",
   "id": "fb681d2188af357c"
  },
  {
   "metadata": {
    "ExecuteTime": {
     "end_time": "2025-03-27T13:14:08.701170Z",
     "start_time": "2025-03-27T13:14:08.694227Z"
    }
   },
   "cell_type": "code",
   "source": [
    "def group_by_qid(qid_array):\n",
    "    \"\"\"\n",
    "    Convert a sorted array of qids into a list of group sizes.\n",
    "    E.g., qid_array=[1,1,1,2,2,3,3,3] => group=[3,2,3].\n",
    "    \"\"\"\n",
    "    group_sizes = []\n",
    "    current_qid = qid_array[0]\n",
    "    count = 0\n",
    "    for qid in qid_array:\n",
    "        if qid == current_qid:\n",
    "            count += 1\n",
    "        else:\n",
    "            group_sizes.append(count)\n",
    "            current_qid = qid\n",
    "            count = 1\n",
    "    group_sizes.append(count)\n",
    "    return group_sizes"
   ],
   "id": "34991ac0b8735b6a",
   "outputs": [],
   "execution_count": 37
  },
  {
   "metadata": {},
   "cell_type": "markdown",
   "source": "## Define 5-Fold Cross-Validation",
   "id": "1ab4098b09735196"
  },
  {
   "metadata": {
    "ExecuteTime": {
     "end_time": "2025-03-27T13:14:14.857226Z",
     "start_time": "2025-03-27T13:14:14.833561Z"
    }
   },
   "cell_type": "code",
   "source": [
    "def cross_validate_lambdamart(X, y, qids, param, n_splits=5):\n",
    "    \"\"\"\n",
    "    Perform a custom 5-fold cross-validation for ranking.\n",
    "    param: dict of XGBoost hyperparameters.\n",
    "    Returns average validation NDCG (or mAP) across folds.\n",
    "    \"\"\"\n",
    "    kf = KFold(n_splits=n_splits, shuffle=True, random_state=42)\n",
    "    metrics = []\n",
    "\n",
    "    # We must split by queries in a robust way. For demonstration,\n",
    "    # we are simply splitting by indices, but ideally you'd group\n",
    "    # by qid to ensure queries are not split across folds.\n",
    "    for train_index, valid_index in kf.split(X):\n",
    "        X_train_cv, X_valid_cv = X[train_index], X[valid_index]\n",
    "        y_train_cv, y_valid_cv = y[train_index], y[valid_index]\n",
    "        qid_train_cv = np.array(qids)[train_index]\n",
    "        qid_valid_cv = np.array(qids)[valid_index]\n",
    "\n",
    "        # Sort by qid for grouping\n",
    "        train_sort_idx = np.argsort(qid_train_cv, kind='stable')\n",
    "        valid_sort_idx = np.argsort(qid_valid_cv, kind='stable')\n",
    "\n",
    "        X_train_cv = X_train_cv[train_sort_idx]\n",
    "        y_train_cv = y_train_cv[train_sort_idx]\n",
    "        qid_train_cv = qid_train_cv[train_sort_idx]\n",
    "\n",
    "        X_valid_cv = X_valid_cv[valid_sort_idx]\n",
    "        y_valid_cv = y_valid_cv[valid_sort_idx]\n",
    "        qid_valid_cv = qid_valid_cv[valid_sort_idx]\n",
    "\n",
    "        # Create group info\n",
    "        group_train_cv = group_by_qid(qid_train_cv)\n",
    "        group_valid_cv = group_by_qid(qid_valid_cv)\n",
    "\n",
    "        dtrain = xgb.DMatrix(X_train_cv, label=y_train_cv)\n",
    "        dtrain.set_group(group_train_cv)\n",
    "        dvalid = xgb.DMatrix(X_valid_cv, label=y_valid_cv)\n",
    "        dvalid.set_group(group_valid_cv)\n",
    "\n",
    "        # Train\n",
    "        evallist = [(dtrain, 'train'), (dvalid, 'eval')]\n",
    "        bst = xgb.train(param, dtrain, num_boost_round=10, evals=evallist, \n",
    "                        early_stopping_rounds=10, verbose_eval=False)\n",
    "        \n",
    "        # Evaluate on this fold: we can use the final NDCG from the last iteration\n",
    "        # XGBoost automatically tracks 'eval' NDCG. Let's fetch bst.best_score:\n",
    "        fold_metric = bst.best_score\n",
    "        metrics.append(fold_metric)\n",
    "\n",
    "    return np.mean(metrics)"
   ],
   "id": "fa55dc5606682a80",
   "outputs": [],
   "execution_count": 38
  },
  {
   "metadata": {},
   "cell_type": "markdown",
   "source": "## Build training features",
   "id": "cf79251118d14ffd"
  },
  {
   "metadata": {
    "ExecuteTime": {
     "end_time": "2025-03-27T13:14:34.304903Z",
     "start_time": "2025-03-27T13:14:20.987835Z"
    }
   },
   "cell_type": "code",
   "source": [
    "train_data_sorted = train_data_subsampled.sort_values('qid')\n",
    "X_train_3d, y_train_3d, qids_train = build_3d_feature_matrix(\n",
    "    train_data_sorted,\n",
    "    query_emb_dict=train_query_embs,\n",
    "    passage_emb_dict=train_passage_embs\n",
    ")"
   ],
   "id": "a409924deb98604c",
   "outputs": [],
   "execution_count": 39
  },
  {
   "metadata": {},
   "cell_type": "markdown",
   "source": "## Standardize",
   "id": "62c6a72ae210d173"
  },
  {
   "metadata": {
    "ExecuteTime": {
     "end_time": "2025-03-27T13:14:40.439800Z",
     "start_time": "2025-03-27T13:14:40.354003Z"
    }
   },
   "cell_type": "code",
   "source": [
    "scaler = StandardScaler()\n",
    "X_train_3d = scaler.fit_transform(X_train_3d)"
   ],
   "id": "4fdb5128952c2737",
   "outputs": [],
   "execution_count": 40
  },
  {
   "metadata": {},
   "cell_type": "markdown",
   "source": "## Sort by qid for the full training set",
   "id": "e68dc50374743e12"
  },
  {
   "metadata": {
    "ExecuteTime": {
     "end_time": "2025-03-27T13:14:46.826623Z",
     "start_time": "2025-03-27T13:14:46.768599Z"
    }
   },
   "cell_type": "code",
   "source": [
    "sort_idx = np.argsort(qids_train, kind='stable')\n",
    "\n",
    "X_train_3d_sorted = X_train_3d[sort_idx]\n",
    "y_train_3d_sorted = y_train_3d[sort_idx]\n",
    "\n",
    "qids_train = np.array(qids_train)\n",
    "qids_train_sorted = qids_train[sort_idx]\n",
    "\n",
    "group_train = group_by_qid(qids_train_sorted)"
   ],
   "id": "d60a57a372335fda",
   "outputs": [],
   "execution_count": 41
  },
  {
   "metadata": {},
   "cell_type": "markdown",
   "source": "## Create a DMatrix for the entire training set",
   "id": "e40f79367c6d987c"
  },
  {
   "metadata": {
    "ExecuteTime": {
     "end_time": "2025-03-27T13:14:53.365500Z",
     "start_time": "2025-03-27T13:14:53.176119Z"
    }
   },
   "cell_type": "code",
   "source": [
    "dtrain_full = xgb.DMatrix(X_train_3d_sorted, label=y_train_3d_sorted)\n",
    "dtrain_full.set_group(group_train)"
   ],
   "id": "837c335361977978",
   "outputs": [],
   "execution_count": 42
  },
  {
   "metadata": {},
   "cell_type": "markdown",
   "source": "## Define hyperparameter grid",
   "id": "182c25da9a66808c"
  },
  {
   "metadata": {
    "ExecuteTime": {
     "end_time": "2025-03-27T13:14:59.454528Z",
     "start_time": "2025-03-27T13:14:59.449100Z"
    }
   },
   "cell_type": "code",
   "source": [
    "param_grid = {\n",
    "    'learning_rate': [0.01, 0.05, 0.1],        # learning rate\n",
    "    'max_depth': [3, 4, 5],         # tree depth\n",
    "    'min_child_weight': [1, 2],     # min hessian sum in child\n",
    "    'reg_lambda': [0, 0.05, 0.1],   # L2 regularization strength\n",
    "    'subsample': [0.7, 0.85, 1.0],  # row sampling\n",
    "    # etc. if you like (colsample_bytree, gamma, etc.)\n",
    "}\n",
    "\n",
    "best_score = -1\n",
    "best_params = None"
   ],
   "id": "cddf45693f9bbe17",
   "outputs": [],
   "execution_count": 43
  },
  {
   "metadata": {},
   "cell_type": "markdown",
   "source": "## Grid search with cross-validation",
   "id": "8ebd92d8b37fc4a"
  },
  {
   "metadata": {
    "ExecuteTime": {
     "end_time": "2025-03-27T15:49:52.116976Z",
     "start_time": "2025-03-27T15:46:56.965911Z"
    }
   },
   "cell_type": "code",
   "source": [
    "# Initialize a counter for the number of iterations\n",
    "iteration_count = 0\n",
    "\n",
    "# Iterate over the parameter grid\n",
    "for candidate_params in ParameterGrid(param_grid):\n",
    "    # Increment the counter for each iteration\n",
    "    iteration_count += 1\n",
    "    \n",
    "    candidate_params['objective'] = 'rank:ndcg'      # LambdaMART\n",
    "    candidate_params['eval_metric'] = ['ndcg']      # track NDCG & MAP in logs\n",
    "\n",
    "    print(\"Testing:\", candidate_params)\n",
    "    score = cross_validate_lambdamart(\n",
    "        X_train_3d_sorted,\n",
    "        y_train_3d_sorted,\n",
    "        qids_train_sorted,\n",
    "        candidate_params,\n",
    "        n_splits=5\n",
    "    )\n",
    "    print(\"CV Score (NDCG):\", score)\n",
    "\n",
    "    if score > best_score:\n",
    "        best_score = score\n",
    "        best_params = candidate_params\n",
    "\n",
    "# Print the total number of iterations, best parameters, and best CV score\n",
    "print(\"\\nTotal Iterations:\", iteration_count)\n",
    "print(\"Best Params:\", best_params)\n",
    "print(\"Best CV NDCG:\", best_score)"
   ],
   "id": "6ee67c36de4c58f9",
   "outputs": [
    {
     "name": "stdout",
     "output_type": "stream",
     "text": [
      "Testing: {'learning_rate': 0.01, 'max_depth': 3, 'min_child_weight': 1, 'reg_lambda': 0, 'subsample': 0.7, 'objective': 'rank:ndcg', 'eval_metric': ['ndcg']}\n",
      "CV Score (NDCG): 0.9242867072557267\n",
      "Testing: {'learning_rate': 0.01, 'max_depth': 3, 'min_child_weight': 1, 'reg_lambda': 0, 'subsample': 0.85, 'objective': 'rank:ndcg', 'eval_metric': ['ndcg']}\n",
      "CV Score (NDCG): 0.9234582674000326\n",
      "Testing: {'learning_rate': 0.01, 'max_depth': 3, 'min_child_weight': 1, 'reg_lambda': 0, 'subsample': 1.0, 'objective': 'rank:ndcg', 'eval_metric': ['ndcg']}\n",
      "CV Score (NDCG): 0.9234510218259189\n",
      "Testing: {'learning_rate': 0.01, 'max_depth': 3, 'min_child_weight': 1, 'reg_lambda': 0.05, 'subsample': 0.7, 'objective': 'rank:ndcg', 'eval_metric': ['ndcg']}\n",
      "CV Score (NDCG): 0.9242925432153243\n",
      "Testing: {'learning_rate': 0.01, 'max_depth': 3, 'min_child_weight': 1, 'reg_lambda': 0.05, 'subsample': 0.85, 'objective': 'rank:ndcg', 'eval_metric': ['ndcg']}\n",
      "CV Score (NDCG): 0.9234590615536569\n",
      "Testing: {'learning_rate': 0.01, 'max_depth': 3, 'min_child_weight': 1, 'reg_lambda': 0.05, 'subsample': 1.0, 'objective': 'rank:ndcg', 'eval_metric': ['ndcg']}\n",
      "CV Score (NDCG): 0.9234637192857933\n",
      "Testing: {'learning_rate': 0.01, 'max_depth': 3, 'min_child_weight': 1, 'reg_lambda': 0.1, 'subsample': 0.7, 'objective': 'rank:ndcg', 'eval_metric': ['ndcg']}\n",
      "CV Score (NDCG): 0.9242989340070084\n",
      "Testing: {'learning_rate': 0.01, 'max_depth': 3, 'min_child_weight': 1, 'reg_lambda': 0.1, 'subsample': 0.85, 'objective': 'rank:ndcg', 'eval_metric': ['ndcg']}\n",
      "CV Score (NDCG): 0.9234590615536569\n",
      "Testing: {'learning_rate': 0.01, 'max_depth': 3, 'min_child_weight': 1, 'reg_lambda': 0.1, 'subsample': 1.0, 'objective': 'rank:ndcg', 'eval_metric': ['ndcg']}\n",
      "CV Score (NDCG): 0.9234637192857933\n",
      "Testing: {'learning_rate': 0.01, 'max_depth': 3, 'min_child_weight': 2, 'reg_lambda': 0, 'subsample': 0.7, 'objective': 'rank:ndcg', 'eval_metric': ['ndcg']}\n",
      "CV Score (NDCG): 0.9242867072557267\n",
      "Testing: {'learning_rate': 0.01, 'max_depth': 3, 'min_child_weight': 2, 'reg_lambda': 0, 'subsample': 0.85, 'objective': 'rank:ndcg', 'eval_metric': ['ndcg']}\n",
      "CV Score (NDCG): 0.9234582674000326\n",
      "Testing: {'learning_rate': 0.01, 'max_depth': 3, 'min_child_weight': 2, 'reg_lambda': 0, 'subsample': 1.0, 'objective': 'rank:ndcg', 'eval_metric': ['ndcg']}\n",
      "CV Score (NDCG): 0.9234510218259189\n",
      "Testing: {'learning_rate': 0.01, 'max_depth': 3, 'min_child_weight': 2, 'reg_lambda': 0.05, 'subsample': 0.7, 'objective': 'rank:ndcg', 'eval_metric': ['ndcg']}\n",
      "CV Score (NDCG): 0.9242925432153243\n",
      "Testing: {'learning_rate': 0.01, 'max_depth': 3, 'min_child_weight': 2, 'reg_lambda': 0.05, 'subsample': 0.85, 'objective': 'rank:ndcg', 'eval_metric': ['ndcg']}\n",
      "CV Score (NDCG): 0.9234590615536569\n",
      "Testing: {'learning_rate': 0.01, 'max_depth': 3, 'min_child_weight': 2, 'reg_lambda': 0.05, 'subsample': 1.0, 'objective': 'rank:ndcg', 'eval_metric': ['ndcg']}\n",
      "CV Score (NDCG): 0.9234637192857933\n",
      "Testing: {'learning_rate': 0.01, 'max_depth': 3, 'min_child_weight': 2, 'reg_lambda': 0.1, 'subsample': 0.7, 'objective': 'rank:ndcg', 'eval_metric': ['ndcg']}\n",
      "CV Score (NDCG): 0.9242989340070084\n",
      "Testing: {'learning_rate': 0.01, 'max_depth': 3, 'min_child_weight': 2, 'reg_lambda': 0.1, 'subsample': 0.85, 'objective': 'rank:ndcg', 'eval_metric': ['ndcg']}\n",
      "CV Score (NDCG): 0.9234590615536569\n",
      "Testing: {'learning_rate': 0.01, 'max_depth': 3, 'min_child_weight': 2, 'reg_lambda': 0.1, 'subsample': 1.0, 'objective': 'rank:ndcg', 'eval_metric': ['ndcg']}\n",
      "CV Score (NDCG): 0.9234637192857933\n",
      "Testing: {'learning_rate': 0.01, 'max_depth': 4, 'min_child_weight': 1, 'reg_lambda': 0, 'subsample': 0.7, 'objective': 'rank:ndcg', 'eval_metric': ['ndcg']}\n",
      "CV Score (NDCG): 0.924998474450334\n",
      "Testing: {'learning_rate': 0.01, 'max_depth': 4, 'min_child_weight': 1, 'reg_lambda': 0, 'subsample': 0.85, 'objective': 'rank:ndcg', 'eval_metric': ['ndcg']}\n",
      "CV Score (NDCG): 0.9254883665843059\n",
      "Testing: {'learning_rate': 0.01, 'max_depth': 4, 'min_child_weight': 1, 'reg_lambda': 0, 'subsample': 1.0, 'objective': 'rank:ndcg', 'eval_metric': ['ndcg']}\n",
      "CV Score (NDCG): 0.9243437379328385\n",
      "Testing: {'learning_rate': 0.01, 'max_depth': 4, 'min_child_weight': 1, 'reg_lambda': 0.05, 'subsample': 0.7, 'objective': 'rank:ndcg', 'eval_metric': ['ndcg']}\n",
      "CV Score (NDCG): 0.9249126570434901\n",
      "Testing: {'learning_rate': 0.01, 'max_depth': 4, 'min_child_weight': 1, 'reg_lambda': 0.05, 'subsample': 0.85, 'objective': 'rank:ndcg', 'eval_metric': ['ndcg']}\n",
      "CV Score (NDCG): 0.9254883665843059\n",
      "Testing: {'learning_rate': 0.01, 'max_depth': 4, 'min_child_weight': 1, 'reg_lambda': 0.05, 'subsample': 1.0, 'objective': 'rank:ndcg', 'eval_metric': ['ndcg']}\n",
      "CV Score (NDCG): 0.9243868160459152\n",
      "Testing: {'learning_rate': 0.01, 'max_depth': 4, 'min_child_weight': 1, 'reg_lambda': 0.1, 'subsample': 0.7, 'objective': 'rank:ndcg', 'eval_metric': ['ndcg']}\n",
      "CV Score (NDCG): 0.924959641598001\n",
      "Testing: {'learning_rate': 0.01, 'max_depth': 4, 'min_child_weight': 1, 'reg_lambda': 0.1, 'subsample': 0.85, 'objective': 'rank:ndcg', 'eval_metric': ['ndcg']}\n",
      "CV Score (NDCG): 0.9254883665843059\n",
      "Testing: {'learning_rate': 0.01, 'max_depth': 4, 'min_child_weight': 1, 'reg_lambda': 0.1, 'subsample': 1.0, 'objective': 'rank:ndcg', 'eval_metric': ['ndcg']}\n",
      "CV Score (NDCG): 0.9243458558949949\n",
      "Testing: {'learning_rate': 0.01, 'max_depth': 4, 'min_child_weight': 2, 'reg_lambda': 0, 'subsample': 0.7, 'objective': 'rank:ndcg', 'eval_metric': ['ndcg']}\n",
      "CV Score (NDCG): 0.924998474450334\n",
      "Testing: {'learning_rate': 0.01, 'max_depth': 4, 'min_child_weight': 2, 'reg_lambda': 0, 'subsample': 0.85, 'objective': 'rank:ndcg', 'eval_metric': ['ndcg']}\n",
      "CV Score (NDCG): 0.9254883665843059\n",
      "Testing: {'learning_rate': 0.01, 'max_depth': 4, 'min_child_weight': 2, 'reg_lambda': 0, 'subsample': 1.0, 'objective': 'rank:ndcg', 'eval_metric': ['ndcg']}\n",
      "CV Score (NDCG): 0.9243437379328385\n",
      "Testing: {'learning_rate': 0.01, 'max_depth': 4, 'min_child_weight': 2, 'reg_lambda': 0.05, 'subsample': 0.7, 'objective': 'rank:ndcg', 'eval_metric': ['ndcg']}\n",
      "CV Score (NDCG): 0.9249126570434901\n",
      "Testing: {'learning_rate': 0.01, 'max_depth': 4, 'min_child_weight': 2, 'reg_lambda': 0.05, 'subsample': 0.85, 'objective': 'rank:ndcg', 'eval_metric': ['ndcg']}\n",
      "CV Score (NDCG): 0.9254883665843059\n",
      "Testing: {'learning_rate': 0.01, 'max_depth': 4, 'min_child_weight': 2, 'reg_lambda': 0.05, 'subsample': 1.0, 'objective': 'rank:ndcg', 'eval_metric': ['ndcg']}\n",
      "CV Score (NDCG): 0.9243868160459152\n",
      "Testing: {'learning_rate': 0.01, 'max_depth': 4, 'min_child_weight': 2, 'reg_lambda': 0.1, 'subsample': 0.7, 'objective': 'rank:ndcg', 'eval_metric': ['ndcg']}\n",
      "CV Score (NDCG): 0.924959641598001\n",
      "Testing: {'learning_rate': 0.01, 'max_depth': 4, 'min_child_weight': 2, 'reg_lambda': 0.1, 'subsample': 0.85, 'objective': 'rank:ndcg', 'eval_metric': ['ndcg']}\n",
      "CV Score (NDCG): 0.9254883665843059\n",
      "Testing: {'learning_rate': 0.01, 'max_depth': 4, 'min_child_weight': 2, 'reg_lambda': 0.1, 'subsample': 1.0, 'objective': 'rank:ndcg', 'eval_metric': ['ndcg']}\n",
      "CV Score (NDCG): 0.9243458558949949\n",
      "Testing: {'learning_rate': 0.01, 'max_depth': 5, 'min_child_weight': 1, 'reg_lambda': 0, 'subsample': 0.7, 'objective': 'rank:ndcg', 'eval_metric': ['ndcg']}\n",
      "CV Score (NDCG): 0.9264993243901269\n",
      "Testing: {'learning_rate': 0.01, 'max_depth': 5, 'min_child_weight': 1, 'reg_lambda': 0, 'subsample': 0.85, 'objective': 'rank:ndcg', 'eval_metric': ['ndcg']}\n",
      "CV Score (NDCG): 0.9260364081101764\n",
      "Testing: {'learning_rate': 0.01, 'max_depth': 5, 'min_child_weight': 1, 'reg_lambda': 0, 'subsample': 1.0, 'objective': 'rank:ndcg', 'eval_metric': ['ndcg']}\n",
      "CV Score (NDCG): 0.926009147675473\n",
      "Testing: {'learning_rate': 0.01, 'max_depth': 5, 'min_child_weight': 1, 'reg_lambda': 0.05, 'subsample': 0.7, 'objective': 'rank:ndcg', 'eval_metric': ['ndcg']}\n",
      "CV Score (NDCG): 0.9265037160345256\n",
      "Testing: {'learning_rate': 0.01, 'max_depth': 5, 'min_child_weight': 1, 'reg_lambda': 0.05, 'subsample': 0.85, 'objective': 'rank:ndcg', 'eval_metric': ['ndcg']}\n",
      "CV Score (NDCG): 0.9262125110357745\n",
      "Testing: {'learning_rate': 0.01, 'max_depth': 5, 'min_child_weight': 1, 'reg_lambda': 0.05, 'subsample': 1.0, 'objective': 'rank:ndcg', 'eval_metric': ['ndcg']}\n",
      "CV Score (NDCG): 0.9260413749033811\n",
      "Testing: {'learning_rate': 0.01, 'max_depth': 5, 'min_child_weight': 1, 'reg_lambda': 0.1, 'subsample': 0.7, 'objective': 'rank:ndcg', 'eval_metric': ['ndcg']}\n",
      "CV Score (NDCG): 0.9263237659235258\n",
      "Testing: {'learning_rate': 0.01, 'max_depth': 5, 'min_child_weight': 1, 'reg_lambda': 0.1, 'subsample': 0.85, 'objective': 'rank:ndcg', 'eval_metric': ['ndcg']}\n",
      "CV Score (NDCG): 0.9261764057203367\n",
      "Testing: {'learning_rate': 0.01, 'max_depth': 5, 'min_child_weight': 1, 'reg_lambda': 0.1, 'subsample': 1.0, 'objective': 'rank:ndcg', 'eval_metric': ['ndcg']}\n",
      "CV Score (NDCG): 0.9262757345060327\n",
      "Testing: {'learning_rate': 0.01, 'max_depth': 5, 'min_child_weight': 2, 'reg_lambda': 0, 'subsample': 0.7, 'objective': 'rank:ndcg', 'eval_metric': ['ndcg']}\n",
      "CV Score (NDCG): 0.9268344248309687\n",
      "Testing: {'learning_rate': 0.01, 'max_depth': 5, 'min_child_weight': 2, 'reg_lambda': 0, 'subsample': 0.85, 'objective': 'rank:ndcg', 'eval_metric': ['ndcg']}\n",
      "CV Score (NDCG): 0.9262891315864451\n",
      "Testing: {'learning_rate': 0.01, 'max_depth': 5, 'min_child_weight': 2, 'reg_lambda': 0, 'subsample': 1.0, 'objective': 'rank:ndcg', 'eval_metric': ['ndcg']}\n",
      "CV Score (NDCG): 0.9256783040919488\n",
      "Testing: {'learning_rate': 0.01, 'max_depth': 5, 'min_child_weight': 2, 'reg_lambda': 0.05, 'subsample': 0.7, 'objective': 'rank:ndcg', 'eval_metric': ['ndcg']}\n",
      "CV Score (NDCG): 0.9263937693140998\n",
      "Testing: {'learning_rate': 0.01, 'max_depth': 5, 'min_child_weight': 2, 'reg_lambda': 0.05, 'subsample': 0.85, 'objective': 'rank:ndcg', 'eval_metric': ['ndcg']}\n",
      "CV Score (NDCG): 0.9264471295221618\n",
      "Testing: {'learning_rate': 0.01, 'max_depth': 5, 'min_child_weight': 2, 'reg_lambda': 0.05, 'subsample': 1.0, 'objective': 'rank:ndcg', 'eval_metric': ['ndcg']}\n",
      "CV Score (NDCG): 0.925866613168292\n",
      "Testing: {'learning_rate': 0.01, 'max_depth': 5, 'min_child_weight': 2, 'reg_lambda': 0.1, 'subsample': 0.7, 'objective': 'rank:ndcg', 'eval_metric': ['ndcg']}\n",
      "CV Score (NDCG): 0.9264490046134848\n",
      "Testing: {'learning_rate': 0.01, 'max_depth': 5, 'min_child_weight': 2, 'reg_lambda': 0.1, 'subsample': 0.85, 'objective': 'rank:ndcg', 'eval_metric': ['ndcg']}\n",
      "CV Score (NDCG): 0.9264370206939525\n",
      "Testing: {'learning_rate': 0.01, 'max_depth': 5, 'min_child_weight': 2, 'reg_lambda': 0.1, 'subsample': 1.0, 'objective': 'rank:ndcg', 'eval_metric': ['ndcg']}\n",
      "CV Score (NDCG): 0.9261472058124494\n",
      "Testing: {'learning_rate': 0.05, 'max_depth': 3, 'min_child_weight': 1, 'reg_lambda': 0, 'subsample': 0.7, 'objective': 'rank:ndcg', 'eval_metric': ['ndcg']}\n",
      "CV Score (NDCG): 0.9250272861094743\n",
      "Testing: {'learning_rate': 0.05, 'max_depth': 3, 'min_child_weight': 1, 'reg_lambda': 0, 'subsample': 0.85, 'objective': 'rank:ndcg', 'eval_metric': ['ndcg']}\n",
      "CV Score (NDCG): 0.9253276799200444\n",
      "Testing: {'learning_rate': 0.05, 'max_depth': 3, 'min_child_weight': 1, 'reg_lambda': 0, 'subsample': 1.0, 'objective': 'rank:ndcg', 'eval_metric': ['ndcg']}\n",
      "CV Score (NDCG): 0.9252626032308454\n",
      "Testing: {'learning_rate': 0.05, 'max_depth': 3, 'min_child_weight': 1, 'reg_lambda': 0.05, 'subsample': 0.7, 'objective': 'rank:ndcg', 'eval_metric': ['ndcg']}\n",
      "CV Score (NDCG): 0.9250292394747891\n",
      "Testing: {'learning_rate': 0.05, 'max_depth': 3, 'min_child_weight': 1, 'reg_lambda': 0.05, 'subsample': 0.85, 'objective': 'rank:ndcg', 'eval_metric': ['ndcg']}\n",
      "CV Score (NDCG): 0.9253276799200444\n",
      "Testing: {'learning_rate': 0.05, 'max_depth': 3, 'min_child_weight': 1, 'reg_lambda': 0.05, 'subsample': 1.0, 'objective': 'rank:ndcg', 'eval_metric': ['ndcg']}\n",
      "CV Score (NDCG): 0.9252626032308454\n",
      "Testing: {'learning_rate': 0.05, 'max_depth': 3, 'min_child_weight': 1, 'reg_lambda': 0.1, 'subsample': 0.7, 'objective': 'rank:ndcg', 'eval_metric': ['ndcg']}\n",
      "CV Score (NDCG): 0.9250292394747891\n",
      "Testing: {'learning_rate': 0.05, 'max_depth': 3, 'min_child_weight': 1, 'reg_lambda': 0.1, 'subsample': 0.85, 'objective': 'rank:ndcg', 'eval_metric': ['ndcg']}\n",
      "CV Score (NDCG): 0.9253276799200444\n",
      "Testing: {'learning_rate': 0.05, 'max_depth': 3, 'min_child_weight': 1, 'reg_lambda': 0.1, 'subsample': 1.0, 'objective': 'rank:ndcg', 'eval_metric': ['ndcg']}\n",
      "CV Score (NDCG): 0.9252548294984427\n",
      "Testing: {'learning_rate': 0.05, 'max_depth': 3, 'min_child_weight': 2, 'reg_lambda': 0, 'subsample': 0.7, 'objective': 'rank:ndcg', 'eval_metric': ['ndcg']}\n",
      "CV Score (NDCG): 0.9250272861094743\n",
      "Testing: {'learning_rate': 0.05, 'max_depth': 3, 'min_child_weight': 2, 'reg_lambda': 0, 'subsample': 0.85, 'objective': 'rank:ndcg', 'eval_metric': ['ndcg']}\n",
      "CV Score (NDCG): 0.9253276799200444\n",
      "Testing: {'learning_rate': 0.05, 'max_depth': 3, 'min_child_weight': 2, 'reg_lambda': 0, 'subsample': 1.0, 'objective': 'rank:ndcg', 'eval_metric': ['ndcg']}\n",
      "CV Score (NDCG): 0.9252626032308454\n",
      "Testing: {'learning_rate': 0.05, 'max_depth': 3, 'min_child_weight': 2, 'reg_lambda': 0.05, 'subsample': 0.7, 'objective': 'rank:ndcg', 'eval_metric': ['ndcg']}\n",
      "CV Score (NDCG): 0.9250292394747891\n",
      "Testing: {'learning_rate': 0.05, 'max_depth': 3, 'min_child_weight': 2, 'reg_lambda': 0.05, 'subsample': 0.85, 'objective': 'rank:ndcg', 'eval_metric': ['ndcg']}\n",
      "CV Score (NDCG): 0.9253276799200444\n",
      "Testing: {'learning_rate': 0.05, 'max_depth': 3, 'min_child_weight': 2, 'reg_lambda': 0.05, 'subsample': 1.0, 'objective': 'rank:ndcg', 'eval_metric': ['ndcg']}\n",
      "CV Score (NDCG): 0.9252626032308454\n",
      "Testing: {'learning_rate': 0.05, 'max_depth': 3, 'min_child_weight': 2, 'reg_lambda': 0.1, 'subsample': 0.7, 'objective': 'rank:ndcg', 'eval_metric': ['ndcg']}\n",
      "CV Score (NDCG): 0.9250292394747891\n",
      "Testing: {'learning_rate': 0.05, 'max_depth': 3, 'min_child_weight': 2, 'reg_lambda': 0.1, 'subsample': 0.85, 'objective': 'rank:ndcg', 'eval_metric': ['ndcg']}\n",
      "CV Score (NDCG): 0.9253276799200444\n",
      "Testing: {'learning_rate': 0.05, 'max_depth': 3, 'min_child_weight': 2, 'reg_lambda': 0.1, 'subsample': 1.0, 'objective': 'rank:ndcg', 'eval_metric': ['ndcg']}\n",
      "CV Score (NDCG): 0.9252548294984427\n",
      "Testing: {'learning_rate': 0.05, 'max_depth': 4, 'min_child_weight': 1, 'reg_lambda': 0, 'subsample': 0.7, 'objective': 'rank:ndcg', 'eval_metric': ['ndcg']}\n",
      "CV Score (NDCG): 0.926892560276267\n",
      "Testing: {'learning_rate': 0.05, 'max_depth': 4, 'min_child_weight': 1, 'reg_lambda': 0, 'subsample': 0.85, 'objective': 'rank:ndcg', 'eval_metric': ['ndcg']}\n",
      "CV Score (NDCG): 0.9252861379032428\n",
      "Testing: {'learning_rate': 0.05, 'max_depth': 4, 'min_child_weight': 1, 'reg_lambda': 0, 'subsample': 1.0, 'objective': 'rank:ndcg', 'eval_metric': ['ndcg']}\n",
      "CV Score (NDCG): 0.9264798142468502\n",
      "Testing: {'learning_rate': 0.05, 'max_depth': 4, 'min_child_weight': 1, 'reg_lambda': 0.05, 'subsample': 0.7, 'objective': 'rank:ndcg', 'eval_metric': ['ndcg']}\n",
      "CV Score (NDCG): 0.9268111679681011\n",
      "Testing: {'learning_rate': 0.05, 'max_depth': 4, 'min_child_weight': 1, 'reg_lambda': 0.05, 'subsample': 0.85, 'objective': 'rank:ndcg', 'eval_metric': ['ndcg']}\n",
      "CV Score (NDCG): 0.9251474115829668\n",
      "Testing: {'learning_rate': 0.05, 'max_depth': 4, 'min_child_weight': 1, 'reg_lambda': 0.05, 'subsample': 1.0, 'objective': 'rank:ndcg', 'eval_metric': ['ndcg']}\n",
      "CV Score (NDCG): 0.9264460988817769\n",
      "Testing: {'learning_rate': 0.05, 'max_depth': 4, 'min_child_weight': 1, 'reg_lambda': 0.1, 'subsample': 0.7, 'objective': 'rank:ndcg', 'eval_metric': ['ndcg']}\n",
      "CV Score (NDCG): 0.9268920277809688\n",
      "Testing: {'learning_rate': 0.05, 'max_depth': 4, 'min_child_weight': 1, 'reg_lambda': 0.1, 'subsample': 0.85, 'objective': 'rank:ndcg', 'eval_metric': ['ndcg']}\n",
      "CV Score (NDCG): 0.9251557529248219\n",
      "Testing: {'learning_rate': 0.05, 'max_depth': 4, 'min_child_weight': 1, 'reg_lambda': 0.1, 'subsample': 1.0, 'objective': 'rank:ndcg', 'eval_metric': ['ndcg']}\n",
      "CV Score (NDCG): 0.9264460988817769\n",
      "Testing: {'learning_rate': 0.05, 'max_depth': 4, 'min_child_weight': 2, 'reg_lambda': 0, 'subsample': 0.7, 'objective': 'rank:ndcg', 'eval_metric': ['ndcg']}\n",
      "CV Score (NDCG): 0.926892560276267\n",
      "Testing: {'learning_rate': 0.05, 'max_depth': 4, 'min_child_weight': 2, 'reg_lambda': 0, 'subsample': 0.85, 'objective': 'rank:ndcg', 'eval_metric': ['ndcg']}\n",
      "CV Score (NDCG): 0.9256569645074956\n",
      "Testing: {'learning_rate': 0.05, 'max_depth': 4, 'min_child_weight': 2, 'reg_lambda': 0, 'subsample': 1.0, 'objective': 'rank:ndcg', 'eval_metric': ['ndcg']}\n",
      "CV Score (NDCG): 0.9264798142468502\n",
      "Testing: {'learning_rate': 0.05, 'max_depth': 4, 'min_child_weight': 2, 'reg_lambda': 0.05, 'subsample': 0.7, 'objective': 'rank:ndcg', 'eval_metric': ['ndcg']}\n",
      "CV Score (NDCG): 0.9268111679681011\n",
      "Testing: {'learning_rate': 0.05, 'max_depth': 4, 'min_child_weight': 2, 'reg_lambda': 0.05, 'subsample': 0.85, 'objective': 'rank:ndcg', 'eval_metric': ['ndcg']}\n",
      "CV Score (NDCG): 0.9255223358448065\n",
      "Testing: {'learning_rate': 0.05, 'max_depth': 4, 'min_child_weight': 2, 'reg_lambda': 0.05, 'subsample': 1.0, 'objective': 'rank:ndcg', 'eval_metric': ['ndcg']}\n",
      "CV Score (NDCG): 0.9264460988817769\n",
      "Testing: {'learning_rate': 0.05, 'max_depth': 4, 'min_child_weight': 2, 'reg_lambda': 0.1, 'subsample': 0.7, 'objective': 'rank:ndcg', 'eval_metric': ['ndcg']}\n",
      "CV Score (NDCG): 0.9268920277809688\n",
      "Testing: {'learning_rate': 0.05, 'max_depth': 4, 'min_child_weight': 2, 'reg_lambda': 0.1, 'subsample': 0.85, 'objective': 'rank:ndcg', 'eval_metric': ['ndcg']}\n",
      "CV Score (NDCG): 0.9255437269248945\n",
      "Testing: {'learning_rate': 0.05, 'max_depth': 4, 'min_child_weight': 2, 'reg_lambda': 0.1, 'subsample': 1.0, 'objective': 'rank:ndcg', 'eval_metric': ['ndcg']}\n",
      "CV Score (NDCG): 0.9264460988817769\n",
      "Testing: {'learning_rate': 0.05, 'max_depth': 5, 'min_child_weight': 1, 'reg_lambda': 0, 'subsample': 0.7, 'objective': 'rank:ndcg', 'eval_metric': ['ndcg']}\n",
      "CV Score (NDCG): 0.9270298487175059\n",
      "Testing: {'learning_rate': 0.05, 'max_depth': 5, 'min_child_weight': 1, 'reg_lambda': 0, 'subsample': 0.85, 'objective': 'rank:ndcg', 'eval_metric': ['ndcg']}\n",
      "CV Score (NDCG): 0.9272565768968095\n",
      "Testing: {'learning_rate': 0.05, 'max_depth': 5, 'min_child_weight': 1, 'reg_lambda': 0, 'subsample': 1.0, 'objective': 'rank:ndcg', 'eval_metric': ['ndcg']}\n",
      "CV Score (NDCG): 0.9268051381887611\n",
      "Testing: {'learning_rate': 0.05, 'max_depth': 5, 'min_child_weight': 1, 'reg_lambda': 0.05, 'subsample': 0.7, 'objective': 'rank:ndcg', 'eval_metric': ['ndcg']}\n",
      "CV Score (NDCG): 0.9270539617568078\n",
      "Testing: {'learning_rate': 0.05, 'max_depth': 5, 'min_child_weight': 1, 'reg_lambda': 0.05, 'subsample': 0.85, 'objective': 'rank:ndcg', 'eval_metric': ['ndcg']}\n",
      "CV Score (NDCG): 0.927089316594086\n",
      "Testing: {'learning_rate': 0.05, 'max_depth': 5, 'min_child_weight': 1, 'reg_lambda': 0.05, 'subsample': 1.0, 'objective': 'rank:ndcg', 'eval_metric': ['ndcg']}\n",
      "CV Score (NDCG): 0.9265310563875024\n",
      "Testing: {'learning_rate': 0.05, 'max_depth': 5, 'min_child_weight': 1, 'reg_lambda': 0.1, 'subsample': 0.7, 'objective': 'rank:ndcg', 'eval_metric': ['ndcg']}\n",
      "CV Score (NDCG): 0.9268628962963603\n",
      "Testing: {'learning_rate': 0.05, 'max_depth': 5, 'min_child_weight': 1, 'reg_lambda': 0.1, 'subsample': 0.85, 'objective': 'rank:ndcg', 'eval_metric': ['ndcg']}\n",
      "CV Score (NDCG): 0.9268180112227211\n",
      "Testing: {'learning_rate': 0.05, 'max_depth': 5, 'min_child_weight': 1, 'reg_lambda': 0.1, 'subsample': 1.0, 'objective': 'rank:ndcg', 'eval_metric': ['ndcg']}\n",
      "CV Score (NDCG): 0.9267739332357529\n",
      "Testing: {'learning_rate': 0.05, 'max_depth': 5, 'min_child_weight': 2, 'reg_lambda': 0, 'subsample': 0.7, 'objective': 'rank:ndcg', 'eval_metric': ['ndcg']}\n",
      "CV Score (NDCG): 0.9271305277408786\n",
      "Testing: {'learning_rate': 0.05, 'max_depth': 5, 'min_child_weight': 2, 'reg_lambda': 0, 'subsample': 0.85, 'objective': 'rank:ndcg', 'eval_metric': ['ndcg']}\n",
      "CV Score (NDCG): 0.9273166469121751\n",
      "Testing: {'learning_rate': 0.05, 'max_depth': 5, 'min_child_weight': 2, 'reg_lambda': 0, 'subsample': 1.0, 'objective': 'rank:ndcg', 'eval_metric': ['ndcg']}\n",
      "CV Score (NDCG): 0.9267382394820934\n",
      "Testing: {'learning_rate': 0.05, 'max_depth': 5, 'min_child_weight': 2, 'reg_lambda': 0.05, 'subsample': 0.7, 'objective': 'rank:ndcg', 'eval_metric': ['ndcg']}\n",
      "CV Score (NDCG): 0.9270754871794014\n",
      "Testing: {'learning_rate': 0.05, 'max_depth': 5, 'min_child_weight': 2, 'reg_lambda': 0.05, 'subsample': 0.85, 'objective': 'rank:ndcg', 'eval_metric': ['ndcg']}\n",
      "CV Score (NDCG): 0.9270910378437112\n",
      "Testing: {'learning_rate': 0.05, 'max_depth': 5, 'min_child_weight': 2, 'reg_lambda': 0.05, 'subsample': 1.0, 'objective': 'rank:ndcg', 'eval_metric': ['ndcg']}\n",
      "CV Score (NDCG): 0.9265661091727277\n",
      "Testing: {'learning_rate': 0.05, 'max_depth': 5, 'min_child_weight': 2, 'reg_lambda': 0.1, 'subsample': 0.7, 'objective': 'rank:ndcg', 'eval_metric': ['ndcg']}\n",
      "CV Score (NDCG): 0.9273361607377885\n",
      "Testing: {'learning_rate': 0.05, 'max_depth': 5, 'min_child_weight': 2, 'reg_lambda': 0.1, 'subsample': 0.85, 'objective': 'rank:ndcg', 'eval_metric': ['ndcg']}\n",
      "CV Score (NDCG): 0.9271893220573046\n",
      "Testing: {'learning_rate': 0.05, 'max_depth': 5, 'min_child_weight': 2, 'reg_lambda': 0.1, 'subsample': 1.0, 'objective': 'rank:ndcg', 'eval_metric': ['ndcg']}\n",
      "CV Score (NDCG): 0.9266641721234207\n",
      "Testing: {'learning_rate': 0.1, 'max_depth': 3, 'min_child_weight': 1, 'reg_lambda': 0, 'subsample': 0.7, 'objective': 'rank:ndcg', 'eval_metric': ['ndcg']}\n",
      "CV Score (NDCG): 0.9249539451097277\n",
      "Testing: {'learning_rate': 0.1, 'max_depth': 3, 'min_child_weight': 1, 'reg_lambda': 0, 'subsample': 0.85, 'objective': 'rank:ndcg', 'eval_metric': ['ndcg']}\n",
      "CV Score (NDCG): 0.9256556297256744\n",
      "Testing: {'learning_rate': 0.1, 'max_depth': 3, 'min_child_weight': 1, 'reg_lambda': 0, 'subsample': 1.0, 'objective': 'rank:ndcg', 'eval_metric': ['ndcg']}\n",
      "CV Score (NDCG): 0.9259499084550548\n",
      "Testing: {'learning_rate': 0.1, 'max_depth': 3, 'min_child_weight': 1, 'reg_lambda': 0.05, 'subsample': 0.7, 'objective': 'rank:ndcg', 'eval_metric': ['ndcg']}\n",
      "CV Score (NDCG): 0.9249508613267239\n",
      "Testing: {'learning_rate': 0.1, 'max_depth': 3, 'min_child_weight': 1, 'reg_lambda': 0.05, 'subsample': 0.85, 'objective': 'rank:ndcg', 'eval_metric': ['ndcg']}\n",
      "CV Score (NDCG): 0.9256556297256744\n",
      "Testing: {'learning_rate': 0.1, 'max_depth': 3, 'min_child_weight': 1, 'reg_lambda': 0.05, 'subsample': 1.0, 'objective': 'rank:ndcg', 'eval_metric': ['ndcg']}\n",
      "CV Score (NDCG): 0.9259029870885186\n",
      "Testing: {'learning_rate': 0.1, 'max_depth': 3, 'min_child_weight': 1, 'reg_lambda': 0.1, 'subsample': 0.7, 'objective': 'rank:ndcg', 'eval_metric': ['ndcg']}\n",
      "CV Score (NDCG): 0.9249508613267239\n",
      "Testing: {'learning_rate': 0.1, 'max_depth': 3, 'min_child_weight': 1, 'reg_lambda': 0.1, 'subsample': 0.85, 'objective': 'rank:ndcg', 'eval_metric': ['ndcg']}\n",
      "CV Score (NDCG): 0.9256556297256744\n",
      "Testing: {'learning_rate': 0.1, 'max_depth': 3, 'min_child_weight': 1, 'reg_lambda': 0.1, 'subsample': 1.0, 'objective': 'rank:ndcg', 'eval_metric': ['ndcg']}\n",
      "CV Score (NDCG): 0.9259479581323651\n",
      "Testing: {'learning_rate': 0.1, 'max_depth': 3, 'min_child_weight': 2, 'reg_lambda': 0, 'subsample': 0.7, 'objective': 'rank:ndcg', 'eval_metric': ['ndcg']}\n",
      "CV Score (NDCG): 0.9249539451097277\n",
      "Testing: {'learning_rate': 0.1, 'max_depth': 3, 'min_child_weight': 2, 'reg_lambda': 0, 'subsample': 0.85, 'objective': 'rank:ndcg', 'eval_metric': ['ndcg']}\n",
      "CV Score (NDCG): 0.9256556297256744\n",
      "Testing: {'learning_rate': 0.1, 'max_depth': 3, 'min_child_weight': 2, 'reg_lambda': 0, 'subsample': 1.0, 'objective': 'rank:ndcg', 'eval_metric': ['ndcg']}\n",
      "CV Score (NDCG): 0.9259499084550548\n",
      "Testing: {'learning_rate': 0.1, 'max_depth': 3, 'min_child_weight': 2, 'reg_lambda': 0.05, 'subsample': 0.7, 'objective': 'rank:ndcg', 'eval_metric': ['ndcg']}\n",
      "CV Score (NDCG): 0.9249508613267239\n",
      "Testing: {'learning_rate': 0.1, 'max_depth': 3, 'min_child_weight': 2, 'reg_lambda': 0.05, 'subsample': 0.85, 'objective': 'rank:ndcg', 'eval_metric': ['ndcg']}\n",
      "CV Score (NDCG): 0.9256556297256744\n",
      "Testing: {'learning_rate': 0.1, 'max_depth': 3, 'min_child_weight': 2, 'reg_lambda': 0.05, 'subsample': 1.0, 'objective': 'rank:ndcg', 'eval_metric': ['ndcg']}\n",
      "CV Score (NDCG): 0.9259029870885186\n",
      "Testing: {'learning_rate': 0.1, 'max_depth': 3, 'min_child_weight': 2, 'reg_lambda': 0.1, 'subsample': 0.7, 'objective': 'rank:ndcg', 'eval_metric': ['ndcg']}\n",
      "CV Score (NDCG): 0.9249508613267239\n",
      "Testing: {'learning_rate': 0.1, 'max_depth': 3, 'min_child_weight': 2, 'reg_lambda': 0.1, 'subsample': 0.85, 'objective': 'rank:ndcg', 'eval_metric': ['ndcg']}\n",
      "CV Score (NDCG): 0.9256556297256744\n",
      "Testing: {'learning_rate': 0.1, 'max_depth': 3, 'min_child_weight': 2, 'reg_lambda': 0.1, 'subsample': 1.0, 'objective': 'rank:ndcg', 'eval_metric': ['ndcg']}\n",
      "CV Score (NDCG): 0.9259479581323651\n",
      "Testing: {'learning_rate': 0.1, 'max_depth': 4, 'min_child_weight': 1, 'reg_lambda': 0, 'subsample': 0.7, 'objective': 'rank:ndcg', 'eval_metric': ['ndcg']}\n",
      "CV Score (NDCG): 0.9267613821459358\n",
      "Testing: {'learning_rate': 0.1, 'max_depth': 4, 'min_child_weight': 1, 'reg_lambda': 0, 'subsample': 0.85, 'objective': 'rank:ndcg', 'eval_metric': ['ndcg']}\n",
      "CV Score (NDCG): 0.9272238700133479\n",
      "Testing: {'learning_rate': 0.1, 'max_depth': 4, 'min_child_weight': 1, 'reg_lambda': 0, 'subsample': 1.0, 'objective': 'rank:ndcg', 'eval_metric': ['ndcg']}\n",
      "CV Score (NDCG): 0.9259453583673463\n",
      "Testing: {'learning_rate': 0.1, 'max_depth': 4, 'min_child_weight': 1, 'reg_lambda': 0.05, 'subsample': 0.7, 'objective': 'rank:ndcg', 'eval_metric': ['ndcg']}\n",
      "CV Score (NDCG): 0.9267453438234515\n",
      "Testing: {'learning_rate': 0.1, 'max_depth': 4, 'min_child_weight': 1, 'reg_lambda': 0.05, 'subsample': 0.85, 'objective': 'rank:ndcg', 'eval_metric': ['ndcg']}\n",
      "CV Score (NDCG): 0.9272074668912845\n",
      "Testing: {'learning_rate': 0.1, 'max_depth': 4, 'min_child_weight': 1, 'reg_lambda': 0.05, 'subsample': 1.0, 'objective': 'rank:ndcg', 'eval_metric': ['ndcg']}\n",
      "CV Score (NDCG): 0.9259453583673463\n",
      "Testing: {'learning_rate': 0.1, 'max_depth': 4, 'min_child_weight': 1, 'reg_lambda': 0.1, 'subsample': 0.7, 'objective': 'rank:ndcg', 'eval_metric': ['ndcg']}\n",
      "CV Score (NDCG): 0.9267453438234515\n",
      "Testing: {'learning_rate': 0.1, 'max_depth': 4, 'min_child_weight': 1, 'reg_lambda': 0.1, 'subsample': 0.85, 'objective': 'rank:ndcg', 'eval_metric': ['ndcg']}\n",
      "CV Score (NDCG): 0.9271831841058431\n",
      "Testing: {'learning_rate': 0.1, 'max_depth': 4, 'min_child_weight': 1, 'reg_lambda': 0.1, 'subsample': 1.0, 'objective': 'rank:ndcg', 'eval_metric': ['ndcg']}\n",
      "CV Score (NDCG): 0.9259545621423813\n",
      "Testing: {'learning_rate': 0.1, 'max_depth': 4, 'min_child_weight': 2, 'reg_lambda': 0, 'subsample': 0.7, 'objective': 'rank:ndcg', 'eval_metric': ['ndcg']}\n",
      "CV Score (NDCG): 0.9267613821459358\n",
      "Testing: {'learning_rate': 0.1, 'max_depth': 4, 'min_child_weight': 2, 'reg_lambda': 0, 'subsample': 0.85, 'objective': 'rank:ndcg', 'eval_metric': ['ndcg']}\n",
      "CV Score (NDCG): 0.9271985667492624\n",
      "Testing: {'learning_rate': 0.1, 'max_depth': 4, 'min_child_weight': 2, 'reg_lambda': 0, 'subsample': 1.0, 'objective': 'rank:ndcg', 'eval_metric': ['ndcg']}\n",
      "CV Score (NDCG): 0.9259453583673463\n",
      "Testing: {'learning_rate': 0.1, 'max_depth': 4, 'min_child_weight': 2, 'reg_lambda': 0.05, 'subsample': 0.7, 'objective': 'rank:ndcg', 'eval_metric': ['ndcg']}\n",
      "CV Score (NDCG): 0.9267453438234515\n",
      "Testing: {'learning_rate': 0.1, 'max_depth': 4, 'min_child_weight': 2, 'reg_lambda': 0.05, 'subsample': 0.85, 'objective': 'rank:ndcg', 'eval_metric': ['ndcg']}\n",
      "CV Score (NDCG): 0.9271985667492624\n",
      "Testing: {'learning_rate': 0.1, 'max_depth': 4, 'min_child_weight': 2, 'reg_lambda': 0.05, 'subsample': 1.0, 'objective': 'rank:ndcg', 'eval_metric': ['ndcg']}\n",
      "CV Score (NDCG): 0.9259453583673463\n",
      "Testing: {'learning_rate': 0.1, 'max_depth': 4, 'min_child_weight': 2, 'reg_lambda': 0.1, 'subsample': 0.7, 'objective': 'rank:ndcg', 'eval_metric': ['ndcg']}\n",
      "CV Score (NDCG): 0.9267453438234515\n",
      "Testing: {'learning_rate': 0.1, 'max_depth': 4, 'min_child_weight': 2, 'reg_lambda': 0.1, 'subsample': 0.85, 'objective': 'rank:ndcg', 'eval_metric': ['ndcg']}\n",
      "CV Score (NDCG): 0.927174283963821\n",
      "Testing: {'learning_rate': 0.1, 'max_depth': 4, 'min_child_weight': 2, 'reg_lambda': 0.1, 'subsample': 1.0, 'objective': 'rank:ndcg', 'eval_metric': ['ndcg']}\n",
      "CV Score (NDCG): 0.9259545621423813\n",
      "Testing: {'learning_rate': 0.1, 'max_depth': 5, 'min_child_weight': 1, 'reg_lambda': 0, 'subsample': 0.7, 'objective': 'rank:ndcg', 'eval_metric': ['ndcg']}\n",
      "CV Score (NDCG): 0.9277461603641315\n",
      "Testing: {'learning_rate': 0.1, 'max_depth': 5, 'min_child_weight': 1, 'reg_lambda': 0, 'subsample': 0.85, 'objective': 'rank:ndcg', 'eval_metric': ['ndcg']}\n",
      "CV Score (NDCG): 0.9275741526812762\n",
      "Testing: {'learning_rate': 0.1, 'max_depth': 5, 'min_child_weight': 1, 'reg_lambda': 0, 'subsample': 1.0, 'objective': 'rank:ndcg', 'eval_metric': ['ndcg']}\n",
      "CV Score (NDCG): 0.928021629016969\n",
      "Testing: {'learning_rate': 0.1, 'max_depth': 5, 'min_child_weight': 1, 'reg_lambda': 0.05, 'subsample': 0.7, 'objective': 'rank:ndcg', 'eval_metric': ['ndcg']}\n",
      "CV Score (NDCG): 0.9277118424133339\n",
      "Testing: {'learning_rate': 0.1, 'max_depth': 5, 'min_child_weight': 1, 'reg_lambda': 0.05, 'subsample': 0.85, 'objective': 'rank:ndcg', 'eval_metric': ['ndcg']}\n",
      "CV Score (NDCG): 0.9268068618932679\n",
      "Testing: {'learning_rate': 0.1, 'max_depth': 5, 'min_child_weight': 1, 'reg_lambda': 0.05, 'subsample': 1.0, 'objective': 'rank:ndcg', 'eval_metric': ['ndcg']}\n",
      "CV Score (NDCG): 0.9280234254165004\n",
      "Testing: {'learning_rate': 0.1, 'max_depth': 5, 'min_child_weight': 1, 'reg_lambda': 0.1, 'subsample': 0.7, 'objective': 'rank:ndcg', 'eval_metric': ['ndcg']}\n",
      "CV Score (NDCG): 0.9276419230367556\n",
      "Testing: {'learning_rate': 0.1, 'max_depth': 5, 'min_child_weight': 1, 'reg_lambda': 0.1, 'subsample': 0.85, 'objective': 'rank:ndcg', 'eval_metric': ['ndcg']}\n",
      "CV Score (NDCG): 0.9275989522488425\n",
      "Testing: {'learning_rate': 0.1, 'max_depth': 5, 'min_child_weight': 1, 'reg_lambda': 0.1, 'subsample': 1.0, 'objective': 'rank:ndcg', 'eval_metric': ['ndcg']}\n",
      "CV Score (NDCG): 0.9278219602005503\n",
      "Testing: {'learning_rate': 0.1, 'max_depth': 5, 'min_child_weight': 2, 'reg_lambda': 0, 'subsample': 0.7, 'objective': 'rank:ndcg', 'eval_metric': ['ndcg']}\n",
      "CV Score (NDCG): 0.9277985043191357\n",
      "Testing: {'learning_rate': 0.1, 'max_depth': 5, 'min_child_weight': 2, 'reg_lambda': 0, 'subsample': 0.85, 'objective': 'rank:ndcg', 'eval_metric': ['ndcg']}\n",
      "CV Score (NDCG): 0.9274902176512416\n",
      "Testing: {'learning_rate': 0.1, 'max_depth': 5, 'min_child_weight': 2, 'reg_lambda': 0, 'subsample': 1.0, 'objective': 'rank:ndcg', 'eval_metric': ['ndcg']}\n",
      "CV Score (NDCG): 0.927940140873748\n",
      "Testing: {'learning_rate': 0.1, 'max_depth': 5, 'min_child_weight': 2, 'reg_lambda': 0.05, 'subsample': 0.7, 'objective': 'rank:ndcg', 'eval_metric': ['ndcg']}\n",
      "CV Score (NDCG): 0.9279239975542117\n",
      "Testing: {'learning_rate': 0.1, 'max_depth': 5, 'min_child_weight': 2, 'reg_lambda': 0.05, 'subsample': 0.85, 'objective': 'rank:ndcg', 'eval_metric': ['ndcg']}\n",
      "CV Score (NDCG): 0.926874763988442\n",
      "Testing: {'learning_rate': 0.1, 'max_depth': 5, 'min_child_weight': 2, 'reg_lambda': 0.05, 'subsample': 1.0, 'objective': 'rank:ndcg', 'eval_metric': ['ndcg']}\n",
      "CV Score (NDCG): 0.9279205356386493\n",
      "Testing: {'learning_rate': 0.1, 'max_depth': 5, 'min_child_weight': 2, 'reg_lambda': 0.1, 'subsample': 0.7, 'objective': 'rank:ndcg', 'eval_metric': ['ndcg']}\n",
      "CV Score (NDCG): 0.9279679367841978\n",
      "Testing: {'learning_rate': 0.1, 'max_depth': 5, 'min_child_weight': 2, 'reg_lambda': 0.1, 'subsample': 0.85, 'objective': 'rank:ndcg', 'eval_metric': ['ndcg']}\n",
      "CV Score (NDCG): 0.927326844751988\n",
      "Testing: {'learning_rate': 0.1, 'max_depth': 5, 'min_child_weight': 2, 'reg_lambda': 0.1, 'subsample': 1.0, 'objective': 'rank:ndcg', 'eval_metric': ['ndcg']}\n",
      "CV Score (NDCG): 0.9277809511872895\n",
      "\n",
      "Total Iterations: 162\n",
      "Best Params: {'learning_rate': 0.1, 'max_depth': 5, 'min_child_weight': 1, 'reg_lambda': 0.05, 'subsample': 1.0, 'objective': 'rank:ndcg', 'eval_metric': ['ndcg']}\n",
      "Best CV NDCG: 0.9280234254165004\n"
     ]
    }
   ],
   "execution_count": 81
  },
  {
   "metadata": {},
   "cell_type": "markdown",
   "source": "## Train final model with best parameters",
   "id": "b8762834106e97a8"
  },
  {
   "metadata": {
    "ExecuteTime": {
     "end_time": "2025-03-27T13:18:08.122944Z",
     "start_time": "2025-03-27T13:18:03.733773Z"
    }
   },
   "cell_type": "code",
   "source": [
    "eval_list = [(dtrain_full, 'train')]\n",
    "bst_final = xgb.train(\n",
    "    best_params,\n",
    "    dtrain_full,\n",
    "    num_boost_round=300,\n",
    "    evals=eval_list,\n",
    "    early_stopping_rounds=10\n",
    ")\n",
    "print(\"Finished training final model with best hyperparams.\")"
   ],
   "id": "7054fffefbfba6dc",
   "outputs": [
    {
     "name": "stdout",
     "output_type": "stream",
     "text": [
      "[0]\ttrain-ndcg:0.33885\n",
      "[1]\ttrain-ndcg:0.37628\n",
      "[2]\ttrain-ndcg:0.41774\n",
      "[3]\ttrain-ndcg:0.43223\n",
      "[4]\ttrain-ndcg:0.44381\n",
      "[5]\ttrain-ndcg:0.45426\n",
      "[6]\ttrain-ndcg:0.46220\n",
      "[7]\ttrain-ndcg:0.46510\n",
      "[8]\ttrain-ndcg:0.46555\n",
      "[9]\ttrain-ndcg:0.47125\n",
      "[10]\ttrain-ndcg:0.47313\n",
      "[11]\ttrain-ndcg:0.47559\n",
      "[12]\ttrain-ndcg:0.47821\n",
      "[13]\ttrain-ndcg:0.48033\n",
      "[14]\ttrain-ndcg:0.48271\n",
      "[15]\ttrain-ndcg:0.48682\n",
      "[16]\ttrain-ndcg:0.48690\n",
      "[17]\ttrain-ndcg:0.48882\n",
      "[18]\ttrain-ndcg:0.49035\n",
      "[19]\ttrain-ndcg:0.49153\n",
      "[20]\ttrain-ndcg:0.49189\n",
      "[21]\ttrain-ndcg:0.49302\n",
      "[22]\ttrain-ndcg:0.49277\n",
      "[23]\ttrain-ndcg:0.49415\n",
      "[24]\ttrain-ndcg:0.49561\n",
      "[25]\ttrain-ndcg:0.49555\n",
      "[26]\ttrain-ndcg:0.49639\n",
      "[27]\ttrain-ndcg:0.49535\n",
      "[28]\ttrain-ndcg:0.49616\n",
      "[29]\ttrain-ndcg:0.49860\n",
      "[30]\ttrain-ndcg:0.49899\n",
      "[31]\ttrain-ndcg:0.49894\n",
      "[32]\ttrain-ndcg:0.49944\n",
      "[33]\ttrain-ndcg:0.50178\n",
      "[34]\ttrain-ndcg:0.50106\n",
      "[35]\ttrain-ndcg:0.50207\n",
      "[36]\ttrain-ndcg:0.50197\n",
      "[37]\ttrain-ndcg:0.50411\n",
      "[38]\ttrain-ndcg:0.50372\n",
      "[39]\ttrain-ndcg:0.50541\n",
      "[40]\ttrain-ndcg:0.50682\n",
      "[41]\ttrain-ndcg:0.50719\n",
      "[42]\ttrain-ndcg:0.50762\n",
      "[43]\ttrain-ndcg:0.50743\n",
      "[44]\ttrain-ndcg:0.50710\n",
      "[45]\ttrain-ndcg:0.50713\n",
      "[46]\ttrain-ndcg:0.50704\n",
      "[47]\ttrain-ndcg:0.50755\n",
      "[48]\ttrain-ndcg:0.50746\n",
      "[49]\ttrain-ndcg:0.50863\n",
      "[50]\ttrain-ndcg:0.50885\n",
      "[51]\ttrain-ndcg:0.50922\n",
      "[52]\ttrain-ndcg:0.50909\n",
      "[53]\ttrain-ndcg:0.50981\n",
      "[54]\ttrain-ndcg:0.50972\n",
      "[55]\ttrain-ndcg:0.50978\n",
      "[56]\ttrain-ndcg:0.51009\n",
      "[57]\ttrain-ndcg:0.51063\n",
      "[58]\ttrain-ndcg:0.51087\n",
      "[59]\ttrain-ndcg:0.51181\n",
      "[60]\ttrain-ndcg:0.51214\n",
      "[61]\ttrain-ndcg:0.51265\n",
      "[62]\ttrain-ndcg:0.51253\n",
      "[63]\ttrain-ndcg:0.51290\n",
      "[64]\ttrain-ndcg:0.51303\n",
      "[65]\ttrain-ndcg:0.51369\n",
      "[66]\ttrain-ndcg:0.51400\n",
      "[67]\ttrain-ndcg:0.51479\n",
      "[68]\ttrain-ndcg:0.51498\n",
      "[69]\ttrain-ndcg:0.51518\n",
      "[70]\ttrain-ndcg:0.51570\n",
      "[71]\ttrain-ndcg:0.51609\n",
      "[72]\ttrain-ndcg:0.51566\n",
      "[73]\ttrain-ndcg:0.51553\n",
      "[74]\ttrain-ndcg:0.51510\n",
      "[75]\ttrain-ndcg:0.51644\n",
      "[76]\ttrain-ndcg:0.51631\n",
      "[77]\ttrain-ndcg:0.51676\n",
      "[78]\ttrain-ndcg:0.51651\n",
      "[79]\ttrain-ndcg:0.51685\n",
      "[80]\ttrain-ndcg:0.51758\n",
      "[81]\ttrain-ndcg:0.51865\n",
      "[82]\ttrain-ndcg:0.51909\n",
      "[83]\ttrain-ndcg:0.51960\n",
      "[84]\ttrain-ndcg:0.51990\n",
      "[85]\ttrain-ndcg:0.51992\n",
      "[86]\ttrain-ndcg:0.52010\n",
      "[87]\ttrain-ndcg:0.52133\n",
      "[88]\ttrain-ndcg:0.52239\n",
      "[89]\ttrain-ndcg:0.52384\n",
      "[90]\ttrain-ndcg:0.52356\n",
      "[91]\ttrain-ndcg:0.52304\n",
      "[92]\ttrain-ndcg:0.52409\n",
      "[93]\ttrain-ndcg:0.52408\n",
      "[94]\ttrain-ndcg:0.52401\n",
      "[95]\ttrain-ndcg:0.52453\n",
      "[96]\ttrain-ndcg:0.52480\n",
      "[97]\ttrain-ndcg:0.52560\n",
      "[98]\ttrain-ndcg:0.52526\n",
      "[99]\ttrain-ndcg:0.52563\n",
      "[100]\ttrain-ndcg:0.52574\n",
      "[101]\ttrain-ndcg:0.52653\n",
      "[102]\ttrain-ndcg:0.52679\n",
      "[103]\ttrain-ndcg:0.52699\n",
      "[104]\ttrain-ndcg:0.52632\n",
      "[105]\ttrain-ndcg:0.52650\n",
      "[106]\ttrain-ndcg:0.52644\n",
      "[107]\ttrain-ndcg:0.52730\n",
      "[108]\ttrain-ndcg:0.52752\n",
      "[109]\ttrain-ndcg:0.52816\n",
      "[110]\ttrain-ndcg:0.52766\n",
      "[111]\ttrain-ndcg:0.52787\n",
      "[112]\ttrain-ndcg:0.52778\n",
      "[113]\ttrain-ndcg:0.52913\n",
      "[114]\ttrain-ndcg:0.52910\n",
      "[115]\ttrain-ndcg:0.52949\n",
      "[116]\ttrain-ndcg:0.52954\n",
      "[117]\ttrain-ndcg:0.52965\n",
      "[118]\ttrain-ndcg:0.53001\n",
      "[119]\ttrain-ndcg:0.53041\n",
      "[120]\ttrain-ndcg:0.53059\n",
      "[121]\ttrain-ndcg:0.53055\n",
      "[122]\ttrain-ndcg:0.53098\n",
      "[123]\ttrain-ndcg:0.53078\n",
      "[124]\ttrain-ndcg:0.53098\n",
      "[125]\ttrain-ndcg:0.53246\n",
      "[126]\ttrain-ndcg:0.53222\n",
      "[127]\ttrain-ndcg:0.53231\n",
      "[128]\ttrain-ndcg:0.53246\n",
      "[129]\ttrain-ndcg:0.53320\n",
      "[130]\ttrain-ndcg:0.53351\n",
      "[131]\ttrain-ndcg:0.53380\n",
      "[132]\ttrain-ndcg:0.53391\n",
      "[133]\ttrain-ndcg:0.53423\n",
      "[134]\ttrain-ndcg:0.53442\n",
      "[135]\ttrain-ndcg:0.53478\n",
      "[136]\ttrain-ndcg:0.53476\n",
      "[137]\ttrain-ndcg:0.53451\n",
      "[138]\ttrain-ndcg:0.53447\n",
      "[139]\ttrain-ndcg:0.53483\n",
      "[140]\ttrain-ndcg:0.53538\n",
      "[141]\ttrain-ndcg:0.53576\n",
      "[142]\ttrain-ndcg:0.53664\n",
      "[143]\ttrain-ndcg:0.53661\n",
      "[144]\ttrain-ndcg:0.53690\n",
      "[145]\ttrain-ndcg:0.53722\n",
      "[146]\ttrain-ndcg:0.53743\n",
      "[147]\ttrain-ndcg:0.53804\n",
      "[148]\ttrain-ndcg:0.53835\n",
      "[149]\ttrain-ndcg:0.53781\n",
      "[150]\ttrain-ndcg:0.53849\n",
      "[151]\ttrain-ndcg:0.53908\n",
      "[152]\ttrain-ndcg:0.53931\n",
      "[153]\ttrain-ndcg:0.53980\n",
      "[154]\ttrain-ndcg:0.53913\n",
      "[155]\ttrain-ndcg:0.53977\n",
      "[156]\ttrain-ndcg:0.53938\n",
      "[157]\ttrain-ndcg:0.53903\n",
      "[158]\ttrain-ndcg:0.53917\n",
      "[159]\ttrain-ndcg:0.53927\n",
      "[160]\ttrain-ndcg:0.53980\n",
      "[161]\ttrain-ndcg:0.53987\n",
      "[162]\ttrain-ndcg:0.54036\n",
      "[163]\ttrain-ndcg:0.54048\n",
      "[164]\ttrain-ndcg:0.54042\n",
      "[165]\ttrain-ndcg:0.54047\n",
      "[166]\ttrain-ndcg:0.54101\n",
      "[167]\ttrain-ndcg:0.54111\n",
      "[168]\ttrain-ndcg:0.54137\n",
      "[169]\ttrain-ndcg:0.54141\n",
      "[170]\ttrain-ndcg:0.54198\n",
      "[171]\ttrain-ndcg:0.54204\n",
      "[172]\ttrain-ndcg:0.54232\n",
      "[173]\ttrain-ndcg:0.54228\n",
      "[174]\ttrain-ndcg:0.54249\n",
      "[175]\ttrain-ndcg:0.54232\n",
      "[176]\ttrain-ndcg:0.54235\n",
      "[177]\ttrain-ndcg:0.54259\n",
      "[178]\ttrain-ndcg:0.54300\n",
      "[179]\ttrain-ndcg:0.54342\n",
      "[180]\ttrain-ndcg:0.54390\n",
      "[181]\ttrain-ndcg:0.54495\n",
      "[182]\ttrain-ndcg:0.54520\n",
      "[183]\ttrain-ndcg:0.54536\n",
      "[184]\ttrain-ndcg:0.54504\n",
      "[185]\ttrain-ndcg:0.54560\n",
      "[186]\ttrain-ndcg:0.54549\n",
      "[187]\ttrain-ndcg:0.54570\n",
      "[188]\ttrain-ndcg:0.54572\n",
      "[189]\ttrain-ndcg:0.54578\n",
      "[190]\ttrain-ndcg:0.54583\n",
      "[191]\ttrain-ndcg:0.54640\n",
      "[192]\ttrain-ndcg:0.54684\n",
      "[193]\ttrain-ndcg:0.54712\n",
      "[194]\ttrain-ndcg:0.54724\n",
      "[195]\ttrain-ndcg:0.54727\n",
      "[196]\ttrain-ndcg:0.54755\n",
      "[197]\ttrain-ndcg:0.54748\n",
      "[198]\ttrain-ndcg:0.54795\n",
      "[199]\ttrain-ndcg:0.54838\n",
      "[200]\ttrain-ndcg:0.54819\n",
      "[201]\ttrain-ndcg:0.54820\n",
      "[202]\ttrain-ndcg:0.54823\n",
      "[203]\ttrain-ndcg:0.54795\n",
      "[204]\ttrain-ndcg:0.54880\n",
      "[205]\ttrain-ndcg:0.54944\n",
      "[206]\ttrain-ndcg:0.54968\n",
      "[207]\ttrain-ndcg:0.54993\n",
      "[208]\ttrain-ndcg:0.54997\n",
      "[209]\ttrain-ndcg:0.55013\n",
      "[210]\ttrain-ndcg:0.55035\n",
      "[211]\ttrain-ndcg:0.55053\n",
      "[212]\ttrain-ndcg:0.55060\n",
      "[213]\ttrain-ndcg:0.55079\n",
      "[214]\ttrain-ndcg:0.55098\n",
      "[215]\ttrain-ndcg:0.55152\n",
      "[216]\ttrain-ndcg:0.55171\n",
      "[217]\ttrain-ndcg:0.55151\n",
      "[218]\ttrain-ndcg:0.55182\n",
      "[219]\ttrain-ndcg:0.55216\n",
      "[220]\ttrain-ndcg:0.55244\n",
      "[221]\ttrain-ndcg:0.55249\n",
      "[222]\ttrain-ndcg:0.55214\n",
      "[223]\ttrain-ndcg:0.55221\n",
      "[224]\ttrain-ndcg:0.55223\n",
      "[225]\ttrain-ndcg:0.55221\n",
      "[226]\ttrain-ndcg:0.55233\n",
      "[227]\ttrain-ndcg:0.55264\n",
      "[228]\ttrain-ndcg:0.55260\n",
      "[229]\ttrain-ndcg:0.55272\n",
      "[230]\ttrain-ndcg:0.55280\n",
      "[231]\ttrain-ndcg:0.55299\n",
      "[232]\ttrain-ndcg:0.55286\n",
      "[233]\ttrain-ndcg:0.55321\n",
      "[234]\ttrain-ndcg:0.55331\n",
      "[235]\ttrain-ndcg:0.55406\n",
      "[236]\ttrain-ndcg:0.55464\n",
      "[237]\ttrain-ndcg:0.55438\n",
      "[238]\ttrain-ndcg:0.55455\n",
      "[239]\ttrain-ndcg:0.55451\n",
      "[240]\ttrain-ndcg:0.55490\n",
      "[241]\ttrain-ndcg:0.55455\n",
      "[242]\ttrain-ndcg:0.55469\n",
      "[243]\ttrain-ndcg:0.55536\n",
      "[244]\ttrain-ndcg:0.55556\n",
      "[245]\ttrain-ndcg:0.55615\n",
      "[246]\ttrain-ndcg:0.55609\n",
      "[247]\ttrain-ndcg:0.55619\n",
      "[248]\ttrain-ndcg:0.55642\n",
      "[249]\ttrain-ndcg:0.55675\n",
      "[250]\ttrain-ndcg:0.55743\n",
      "[251]\ttrain-ndcg:0.55771\n",
      "[252]\ttrain-ndcg:0.55809\n",
      "[253]\ttrain-ndcg:0.55804\n",
      "[254]\ttrain-ndcg:0.55814\n",
      "[255]\ttrain-ndcg:0.55855\n",
      "[256]\ttrain-ndcg:0.55863\n",
      "[257]\ttrain-ndcg:0.55872\n",
      "[258]\ttrain-ndcg:0.55909\n",
      "[259]\ttrain-ndcg:0.55898\n",
      "[260]\ttrain-ndcg:0.55887\n",
      "[261]\ttrain-ndcg:0.55934\n",
      "[262]\ttrain-ndcg:0.55974\n",
      "[263]\ttrain-ndcg:0.56003\n",
      "[264]\ttrain-ndcg:0.56000\n",
      "[265]\ttrain-ndcg:0.56023\n",
      "[266]\ttrain-ndcg:0.56078\n",
      "[267]\ttrain-ndcg:0.56058\n",
      "[268]\ttrain-ndcg:0.56049\n",
      "[269]\ttrain-ndcg:0.56049\n",
      "[270]\ttrain-ndcg:0.56066\n",
      "[271]\ttrain-ndcg:0.56072\n",
      "[272]\ttrain-ndcg:0.56115\n",
      "[273]\ttrain-ndcg:0.56164\n",
      "[274]\ttrain-ndcg:0.56154\n",
      "[275]\ttrain-ndcg:0.56147\n",
      "[276]\ttrain-ndcg:0.56175\n",
      "[277]\ttrain-ndcg:0.56190\n",
      "[278]\ttrain-ndcg:0.56234\n",
      "[279]\ttrain-ndcg:0.56267\n",
      "[280]\ttrain-ndcg:0.56269\n",
      "[281]\ttrain-ndcg:0.56308\n",
      "[282]\ttrain-ndcg:0.56378\n",
      "[283]\ttrain-ndcg:0.56405\n",
      "[284]\ttrain-ndcg:0.56398\n",
      "[285]\ttrain-ndcg:0.56422\n",
      "[286]\ttrain-ndcg:0.56423\n",
      "[287]\ttrain-ndcg:0.56448\n",
      "[288]\ttrain-ndcg:0.56454\n",
      "[289]\ttrain-ndcg:0.56460\n",
      "[290]\ttrain-ndcg:0.56490\n",
      "[291]\ttrain-ndcg:0.56477\n",
      "[292]\ttrain-ndcg:0.56516\n",
      "[293]\ttrain-ndcg:0.56545\n",
      "[294]\ttrain-ndcg:0.56543\n",
      "[295]\ttrain-ndcg:0.56574\n",
      "[296]\ttrain-ndcg:0.56607\n",
      "[297]\ttrain-ndcg:0.56582\n",
      "[298]\ttrain-ndcg:0.56611\n",
      "[299]\ttrain-ndcg:0.56671\n",
      "Finished training final model with best hyperparams.\n"
     ]
    }
   ],
   "execution_count": 45
  },
  {
   "metadata": {},
   "cell_type": "markdown",
   "source": "## Evaluate on Validation",
   "id": "4143c86b19025d82"
  },
  {
   "metadata": {
    "ExecuteTime": {
     "end_time": "2025-03-27T13:19:19.468103Z",
     "start_time": "2025-03-27T13:18:14.276309Z"
    }
   },
   "cell_type": "code",
   "source": [
    "X_valid_3d, y_valid_3d, qids_valid = build_3d_feature_matrix(\n",
    "    validation_data,\n",
    "    query_emb_dict=valid_query_embs,\n",
    "    passage_emb_dict=valid_passage_embs\n",
    ")"
   ],
   "id": "66c6c588c056969f",
   "outputs": [],
   "execution_count": 46
  },
  {
   "metadata": {},
   "cell_type": "markdown",
   "source": "## Transform validation to scalar",
   "id": "9d1546ab5784cf3d"
  },
  {
   "metadata": {
    "ExecuteTime": {
     "end_time": "2025-03-27T13:19:25.897716Z",
     "start_time": "2025-03-27T13:19:25.863Z"
    }
   },
   "cell_type": "code",
   "source": "X_valid_3d = scaler.transform(X_valid_3d)",
   "id": "67f045d2e91d09f7",
   "outputs": [],
   "execution_count": 47
  },
  {
   "metadata": {},
   "cell_type": "markdown",
   "source": "## Sort by qid",
   "id": "7848130b71bd0b3c"
  },
  {
   "metadata": {
    "ExecuteTime": {
     "end_time": "2025-03-27T13:19:32.326791Z",
     "start_time": "2025-03-27T13:19:31.943912Z"
    }
   },
   "cell_type": "code",
   "source": [
    "sort_idx_val = np.argsort(qids_valid, kind='stable')\n",
    "X_valid_3d_sorted = X_valid_3d[sort_idx_val]\n",
    "y_valid_3d_sorted = y_valid_3d[sort_idx_val]\n",
    "\n",
    "qids_valid = np.array(qids_valid)\n",
    "qids_valid_sorted = qids_valid[sort_idx_val]\n",
    "\n",
    "group_valid = group_by_qid(qids_valid_sorted)"
   ],
   "id": "5c1314674e8b9f7b",
   "outputs": [],
   "execution_count": 48
  },
  {
   "metadata": {},
   "cell_type": "markdown",
   "source": "## Create DMatrix for validation",
   "id": "91c3a468535cf9aa"
  },
  {
   "metadata": {
    "ExecuteTime": {
     "end_time": "2025-03-27T13:19:38.581826Z",
     "start_time": "2025-03-27T13:19:38.510408Z"
    }
   },
   "cell_type": "code",
   "source": [
    "dvalid = xgb.DMatrix(X_valid_3d_sorted, label=y_valid_3d_sorted)\n",
    "dvalid.set_group(group_valid)"
   ],
   "id": "3235f742a5dbbe1e",
   "outputs": [],
   "execution_count": 49
  },
  {
   "metadata": {},
   "cell_type": "markdown",
   "source": "## Predict on validation",
   "id": "be77b6043d548a17"
  },
  {
   "metadata": {
    "ExecuteTime": {
     "end_time": "2025-03-27T13:19:45.491031Z",
     "start_time": "2025-03-27T13:19:44.691545Z"
    }
   },
   "cell_type": "code",
   "source": "preds = bst_final.predict(dvalid)",
   "id": "90c63395ea0934be",
   "outputs": [],
   "execution_count": 50
  },
  {
   "metadata": {},
   "cell_type": "markdown",
   "source": "## Attach scores to validation DataFrame for ranking",
   "id": "6935a0b045744879"
  },
  {
   "metadata": {
    "ExecuteTime": {
     "end_time": "2025-03-27T13:19:52.888067Z",
     "start_time": "2025-03-27T13:19:51.663770Z"
    }
   },
   "cell_type": "code",
   "source": [
    "validation_data_sorted = validation_data.copy()\n",
    "validation_data_sorted = validation_data_sorted.iloc[sort_idx_val].reset_index(drop=True)\n",
    "validation_data_sorted['score'] = preds"
   ],
   "id": "131a765e872e19",
   "outputs": [],
   "execution_count": 51
  },
  {
   "metadata": {},
   "cell_type": "markdown",
   "source": "## Build ranking dict",
   "id": "708c496b80bc51a3"
  },
  {
   "metadata": {
    "ExecuteTime": {
     "end_time": "2025-03-27T13:19:59.767361Z",
     "start_time": "2025-03-27T13:19:59.021936Z"
    }
   },
   "cell_type": "code",
   "source": [
    "ranking_dict_lm = {}\n",
    "for qid, group_df in validation_data_sorted.groupby('qid'):\n",
    "    pid_scores = dict(zip(group_df['pid'], group_df['score']))\n",
    "    pid_scores_sorted = dict(sorted(pid_scores.items(), \n",
    "                                    key=lambda x: x[1], \n",
    "                                    reverse=True)[:100])\n",
    "    ranking_dict_lm[qid] = pid_scores_sorted"
   ],
   "id": "eceffe0efded5124",
   "outputs": [],
   "execution_count": 52
  },
  {
   "metadata": {},
   "cell_type": "markdown",
   "source": "## Evaluate using mAP and mNDCG",
   "id": "6d139715269b9745"
  },
  {
   "metadata": {
    "ExecuteTime": {
     "end_time": "2025-03-27T13:20:06.080424Z",
     "start_time": "2025-03-27T13:20:05.994624Z"
    }
   },
   "cell_type": "code",
   "source": [
    "mAP_lm, _ = mean_AP(ranking_dict_lm)\n",
    "mNDCG_lm, _ = mean_NDCG(ranking_dict_lm)\n",
    "\n",
    "print(\"LambdaMART (3D features) - final model - mAP:\", mAP_lm)\n",
    "print(\"LambdaMART (3D features) - final model - mNDCG:\", mNDCG_lm)"
   ],
   "id": "d1cbbf5751da56f3",
   "outputs": [
    {
     "name": "stdout",
     "output_type": "stream",
     "text": [
      "LambdaMART (3D features) - final model - mAP: 0.06292713332127359\n",
      "LambdaMART (3D features) - final model - mNDCG: 0.11581333251204133\n"
     ]
    }
   ],
   "execution_count": 53
  },
  {
   "metadata": {},
   "cell_type": "markdown",
   "source": "## Apply LM on \"candidate_passages_top1000.tsv\"",
   "id": "bcce060a9b3d6a3c"
  },
  {
   "metadata": {
    "ExecuteTime": {
     "end_time": "2025-03-27T13:20:23.437998Z",
     "start_time": "2025-03-27T13:20:12.239741Z"
    }
   },
   "cell_type": "code",
   "source": [
    "# Build 3D feature matrix for LM model using the test embeddings\n",
    "X_test_3d, _, _ = build_3d_feature_matrix(candidates, test_query_embs, test_passage_embs)\n",
    "# Standardize using the same scaler from training\n",
    "X_test_3d = scaler.transform(X_test_3d)\n",
    "# Create a DMatrix and predict LM scores using your final XGBoost model (bst_final)\n",
    "dtest = xgb.DMatrix(X_test_3d)\n",
    "lm_scores = bst_final.predict(dtest)\n",
    "candidates['lm_score'] = lm_scores"
   ],
   "id": "c71928eaa3b5e629",
   "outputs": [],
   "execution_count": 54
  },
  {
   "metadata": {
    "ExecuteTime": {
     "end_time": "2025-03-27T13:20:29.810604Z",
     "start_time": "2025-03-27T13:20:29.576979Z"
    }
   },
   "cell_type": "code",
   "source": [
    "# Build ranking dictionary for LM\n",
    "ranking_dict_lm_test = {}\n",
    "for qid, group_df in candidates.groupby('qid'):\n",
    "    pid_scores = dict(zip(group_df['pid'], group_df['lm_score']))\n",
    "    pid_scores_sorted = dict(sorted(pid_scores.items(), key=lambda x: x[1], reverse=True)[:100])\n",
    "    ranking_dict_lm_test[qid] = pid_scores_sorted"
   ],
   "id": "3a4da846b384a35f",
   "outputs": [],
   "execution_count": 55
  },
  {
   "metadata": {},
   "cell_type": "markdown",
   "source": "## \"LM.txt\"",
   "id": "ceed84d5f02c1904"
  },
  {
   "metadata": {
    "ExecuteTime": {
     "end_time": "2025-03-27T13:20:35.990265Z",
     "start_time": "2025-03-27T13:20:35.938658Z"
    }
   },
   "cell_type": "code",
   "source": [
    "# Write LM submission file (LM.txt)\n",
    "with open('LM.txt', 'w') as f:\n",
    "    for qid in sorted(ranking_dict_lm_test.keys()):\n",
    "        pid_scores = ranking_dict_lm_test[qid]\n",
    "        sorted_items = sorted(pid_scores.items(), key=lambda x: x[1], reverse=True)\n",
    "        for rank, (pid, score) in enumerate(sorted_items, start=1):\n",
    "            f.write(f\"{qid} A2 {pid} {rank} {score} LM\\n\")"
   ],
   "id": "f3f9bb1e1f01e779",
   "outputs": [],
   "execution_count": 56
  },
  {
   "metadata": {},
   "cell_type": "markdown",
   "source": "# Task 4: Neural Network Model (NN).",
   "id": "f105fa6e87d0350"
  },
  {
   "metadata": {},
   "cell_type": "markdown",
   "source": "## Define a PyTorch Dataset for our training data",
   "id": "71d76f91e7f57341"
  },
  {
   "metadata": {
    "ExecuteTime": {
     "end_time": "2025-03-27T13:20:48.241853Z",
     "start_time": "2025-03-27T13:20:48.228461Z"
    }
   },
   "cell_type": "code",
   "source": [
    "class PassageDataset(torch.utils.data.Dataset):\n",
    "    def __init__(self, features, labels):\n",
    "        self.X = torch.tensor(features, dtype=torch.float32)\n",
    "        self.y = torch.tensor(labels, dtype=torch.float32)  # binary labels: 0 or 1\n",
    "        \n",
    "    def __len__(self):\n",
    "        return len(self.y)\n",
    "    \n",
    "    def __getitem__(self, idx):\n",
    "        return self.X[idx], self.y[idx]"
   ],
   "id": "c5b80bee70f6ed44",
   "outputs": [],
   "execution_count": 58
  },
  {
   "metadata": {},
   "cell_type": "markdown",
   "source": "## Define a class \"NNmodel\": a simple feed-forward network with two hidden layers",
   "id": "235c6ca8b0709271"
  },
  {
   "metadata": {
    "ExecuteTime": {
     "end_time": "2025-03-27T17:09:55.145439Z",
     "start_time": "2025-03-27T17:09:55.139983Z"
    }
   },
   "cell_type": "code",
   "source": [
    "class NNModel(nn.Module):\n",
    "    def __init__(self, input_dim):\n",
    "        super(NNModel, self).__init__()\n",
    "        self.fc1 = nn.Linear(input_dim, 256)\n",
    "        self.dropout1 = nn.Dropout(0.5)\n",
    "        self.fc2 = nn.Linear(256, 128)\n",
    "        self.dropout2 = nn.Dropout(0.5)\n",
    "        self.fc3 = nn.Linear(128, 64)\n",
    "        self.fc4 = nn.Linear(64, 1)\n",
    "        self.relu = nn.ReLU()\n",
    "\n",
    "    def forward(self, x):\n",
    "        x = self.relu(self.fc1(x))\n",
    "        x = self.dropout1(x)\n",
    "        x = self.relu(self.fc2(x))\n",
    "        x = self.dropout2(x)\n",
    "        x = self.relu(self.fc3(x))\n",
    "        x = self.fc4(x)\n",
    "        return x"
   ],
   "id": "36c41883cbdf21bd",
   "outputs": [],
   "execution_count": 109
  },
  {
   "metadata": {},
   "cell_type": "markdown",
   "source": "## Define a training loop for our NN model",
   "id": "df2bd722d08cd613"
  },
  {
   "metadata": {
    "ExecuteTime": {
     "end_time": "2025-03-27T16:20:47.146193Z",
     "start_time": "2025-03-27T16:20:47.139745Z"
    }
   },
   "cell_type": "code",
   "source": [
    "def train_nn(model, train_loader, criterion, optimizer, num_epochs, device):\n",
    "    model.train()\n",
    "    loss_history = []\n",
    "    for epoch in range(num_epochs):\n",
    "        running_loss = 0.0\n",
    "        for X_batch, y_batch in train_loader:\n",
    "            X_batch = X_batch.to(device)\n",
    "            y_batch = y_batch.to(device).unsqueeze(1)  # shape: (batch_size, 1)\n",
    "            \n",
    "            optimizer.zero_grad()\n",
    "            outputs = model(X_batch)\n",
    "            loss = criterion(outputs, y_batch)\n",
    "            loss.backward()\n",
    "            optimizer.step()\n",
    "            \n",
    "            running_loss += loss.item() * X_batch.size(0)\n",
    "        epoch_loss = running_loss / len(train_loader.dataset)\n",
    "        loss_history.append(epoch_loss)\n",
    "        if (epoch + 1) % 10 == 0:\n",
    "            print(f\"Epoch {epoch+1}/{num_epochs}, Loss: {epoch_loss:.4f}\")\n",
    "    return loss_history"
   ],
   "id": "fe10bcc93a10d39c",
   "outputs": [],
   "execution_count": 84
  },
  {
   "metadata": {},
   "cell_type": "markdown",
   "source": "## Build the training feature matrix",
   "id": "86ff54ecb8ee38a2"
  },
  {
   "metadata": {
    "ExecuteTime": {
     "end_time": "2025-03-27T13:21:36.135704Z",
     "start_time": "2025-03-27T13:21:24.999939Z"
    }
   },
   "cell_type": "code",
   "source": "X_train_nn, y_train_nn = build_feature_matrix(train_data_subsampled, train_query_embs, train_passage_embs)",
   "id": "ae626b6ecae88039",
   "outputs": [],
   "execution_count": 64
  },
  {
   "metadata": {},
   "cell_type": "markdown",
   "source": "## Create a Dataset and DataLoader for training",
   "id": "4ceb4a546b24aae1"
  },
  {
   "metadata": {
    "ExecuteTime": {
     "end_time": "2025-03-27T16:56:17.913230Z",
     "start_time": "2025-03-27T16:56:17.871565Z"
    }
   },
   "cell_type": "code",
   "source": [
    "batch_size = 512\n",
    "train_dataset = PassageDataset(X_train_nn, y_train_nn)\n",
    "train_loader = torch.utils.data.DataLoader(train_dataset, batch_size=batch_size, shuffle=True)"
   ],
   "id": "53acd168481dbe99",
   "outputs": [],
   "execution_count": 104
  },
  {
   "metadata": {},
   "cell_type": "markdown",
   "source": "## Set up device, instantiate the NN model, loss function and optimizer",
   "id": "4b6e12bd468501bb"
  },
  {
   "metadata": {
    "ExecuteTime": {
     "end_time": "2025-03-27T16:56:17.808573Z",
     "start_time": "2025-03-27T16:56:17.800141Z"
    }
   },
   "cell_type": "code",
   "source": [
    "device = torch.device(\"cuda\" if torch.cuda.is_available() else \"cpu\")\n",
    "input_dim = X_train_nn.shape[1]  # e.g. 200 (if each embedding is 100-dimensional)\n",
    "model_nn = NNModel(input_dim).to(device)\n",
    "criterion = torch.nn.BCEWithLogitsLoss()  # internally applies sigmoid\n",
    "optimizer = torch.optim.Adam(model_nn.parameters(), lr=0.0001, weight_decay=4e-4)\n",
    "num_epochs = 100"
   ],
   "id": "199fe208fb2d5ac0",
   "outputs": [],
   "execution_count": 103
  },
  {
   "metadata": {},
   "cell_type": "markdown",
   "source": "## Train the Neural Network",
   "id": "41302b00eb4260a5"
  },
  {
   "metadata": {
    "ExecuteTime": {
     "end_time": "2025-03-27T17:14:50.386045Z",
     "start_time": "2025-03-27T17:10:03.090351Z"
    }
   },
   "cell_type": "code",
   "source": "loss_history_nn = train_nn(model_nn, train_loader, criterion, optimizer, num_epochs, device)",
   "id": "5d61c895e7d087c9",
   "outputs": [
    {
     "name": "stdout",
     "output_type": "stream",
     "text": [
      "Epoch 10/100, Loss: 0.0890\n",
      "Epoch 20/100, Loss: 0.0879\n",
      "Epoch 30/100, Loss: 0.0866\n",
      "Epoch 40/100, Loss: 0.0852\n",
      "Epoch 50/100, Loss: 0.0834\n",
      "Epoch 60/100, Loss: 0.0828\n",
      "Epoch 70/100, Loss: 0.0817\n",
      "Epoch 80/100, Loss: 0.0807\n",
      "Epoch 90/100, Loss: 0.0801\n",
      "Epoch 100/100, Loss: 0.0794\n"
     ]
    }
   ],
   "execution_count": 110
  },
  {
   "metadata": {},
   "cell_type": "markdown",
   "source": "## Plot training loss over epochs",
   "id": "8b238889c4d32734"
  },
  {
   "metadata": {
    "ExecuteTime": {
     "end_time": "2025-03-27T17:31:27.837122Z",
     "start_time": "2025-03-27T17:31:27.720066Z"
    }
   },
   "cell_type": "code",
   "source": [
    "plt.figure(figsize=(10,6))\n",
    "plt.plot(range(num_epochs), loss_history_nn, marker='o')\n",
    "plt.xlabel('Epoch')\n",
    "plt.ylabel('Training Loss')\n",
    "plt.title('Neural Network Training Loss')\n",
    "plt.grid(True)\n",
    "plt.show()"
   ],
   "id": "4b3dfe9e127bb7be",
   "outputs": [
    {
     "data": {
      "text/plain": [
       "<Figure size 1000x600 with 1 Axes>"
      ],
      "image/png": "[encoded data removed]"
     },
     "metadata": {},
     "output_type": "display_data"
    }
   ],
   "execution_count": 111
  },
  {
   "metadata": {},
   "cell_type": "markdown",
   "source": "## Evaluate the Model on the Validation Set",
   "id": "af476820f3691eeb"
  },
  {
   "metadata": {
    "ExecuteTime": {
     "end_time": "2025-03-27T17:32:37.279366Z",
     "start_time": "2025-03-27T17:31:36.264017Z"
    }
   },
   "cell_type": "code",
   "source": [
    "validation_data_sorted = validation_data.sort_values('qid').reset_index(drop=True)\n",
    "X_valid_nn, y_valid_nn = build_feature_matrix(validation_data_sorted, \n",
    "                                             valid_query_embs,  # from Task 2\n",
    "                                             valid_passage_embs)  # from Task 2\n",
    "\n",
    "model_nn.eval()\n",
    "with torch.no_grad():\n",
    "    X_valid_tensor = torch.tensor(X_valid_nn, dtype=torch.float32).to(device)\n",
    "    outputs = model_nn(X_valid_tensor)\n",
    "    nn_scores = torch.sigmoid(outputs).squeeze().cpu().numpy()\n",
    "\n",
    "# Attach the NN scores to the validation DataFrame\n",
    "validation_data_sorted['nn_score'] = nn_scores\n",
    "\n",
    "# Build a ranking dictionary for validation\n",
    "ranking_dict_nn_val = {}\n",
    "for qid, group_df in validation_data_sorted.groupby('qid'):\n",
    "    pid_scores = dict(zip(group_df['pid'], group_df['nn_score']))\n",
    "    # Sort by descending score, keep top-100\n",
    "    pid_scores_sorted = dict(sorted(pid_scores.items(), key=lambda x: x[1], reverse=True)[:100])\n",
    "    ranking_dict_nn_val[qid] = pid_scores_sorted"
   ],
   "id": "4bec198ec99e98e3",
   "outputs": [],
   "execution_count": 112
  },
  {
   "metadata": {},
   "cell_type": "markdown",
   "source": "## Evaluate using mean_AP and mean_NDCG",
   "id": "30bae40e9dd9a5c1"
  },
  {
   "metadata": {
    "ExecuteTime": {
     "end_time": "2025-03-27T17:32:48.416786Z",
     "start_time": "2025-03-27T17:32:48.322546Z"
    }
   },
   "cell_type": "code",
   "source": [
    "mAP_nn, _ = mean_AP(ranking_dict_nn_val)\n",
    "mNDCG_nn, _ = mean_NDCG(ranking_dict_nn_val)\n",
    "\n",
    "print(\"Neural Network Model (Validation) - mAP:\", mAP_nn)\n",
    "print(\"Neural Network Model (Validation) - mNDCG:\", mNDCG_nn)"
   ],
   "id": "1035f35e2068a662",
   "outputs": [
    {
     "name": "stdout",
     "output_type": "stream",
     "text": [
      "Neural Network Model (Validation) - mAP: 0.05249864513941849\n",
      "Neural Network Model (Validation) - mNDCG: 0.12180484207367016\n"
     ]
    }
   ],
   "execution_count": 113
  },
  {
   "metadata": {},
   "cell_type": "markdown",
   "source": "## Apply NN on \"candidate_passages_top1000.tsv\"",
   "id": "737bed52b552eee2"
  },
  {
   "metadata": {
    "ExecuteTime": {
     "end_time": "2025-03-27T17:33:09.465501Z",
     "start_time": "2025-03-27T17:32:58.592701Z"
    }
   },
   "cell_type": "code",
   "source": [
    "# Build the Feature Matrix for NN (concatenated query+passage embeddings)\n",
    "X_test_nn, _ = build_feature_matrix(candidates, test_query_embs, test_passage_embs)\n",
    "\n",
    "# Predict Scores with the Trained Neural Network\n",
    "model_nn.eval()\n",
    "with torch.no_grad():\n",
    "    X_test_tensor = torch.tensor(X_test_nn, dtype=torch.float32).to(device)\n",
    "    nn_outputs = model_nn(X_test_tensor)\n",
    "    nn_scores = torch.sigmoid(nn_outputs).squeeze().cpu().numpy()\n",
    "candidates['nn_score'] = nn_scores\n",
    "\n",
    "# Build Ranking Dictionary for Each Query (top 100)\n",
    "ranking_dict_nn_test = {}\n",
    "for qid, group_df in candidates.groupby('qid'):\n",
    "    pid_scores = dict(zip(group_df['pid'], group_df['nn_score']))\n",
    "    pid_scores_sorted = dict(sorted(pid_scores.items(), key=lambda x: x[1], reverse=True)[:100])\n",
    "    ranking_dict_nn_test[qid] = pid_scores_sorted"
   ],
   "id": "1e61edfbac2c8f60",
   "outputs": [],
   "execution_count": 114
  },
  {
   "metadata": {},
   "cell_type": "markdown",
   "source": "## \"NN.txt\"",
   "id": "5bf63e3ef717e4eb"
  },
  {
   "metadata": {
    "ExecuteTime": {
     "end_time": "2025-03-27T13:29:25.223528Z",
     "start_time": "2025-03-27T13:29:25.170956Z"
    }
   },
   "cell_type": "code",
   "source": [
    "with open('NN.txt', 'w') as f:\n",
    "    for qid in sorted(ranking_dict_nn_test.keys()):\n",
    "        pid_scores = ranking_dict_nn_test[qid]\n",
    "        sorted_items = sorted(pid_scores.items(), key=lambda x: x[1], reverse=True)\n",
    "        for rank, (pid, score) in enumerate(sorted_items, start=1):\n",
    "            # Format: qid, \"A2\", pid, rank, score, \"NN\"\n",
    "            f.write(f\"{qid} A2 {pid} {rank} {score} NN\\n\")\n",
    "\n",
    "print(\"Submission file 'NN.txt' generated successfully!\")"
   ],
   "id": "457365dc23962485",
   "outputs": [
    {
     "name": "stdout",
     "output_type": "stream",
     "text": [
      "Submission file 'NN.txt' generated successfully!\n"
     ]
    }
   ],
   "execution_count": 80
  },
  {
   "metadata": {
    "ExecuteTime": {
     "end_time": "2025-03-27T13:29:31.142303Z",
     "start_time": "2025-03-27T13:29:31.139823Z"
    }
   },
   "cell_type": "code",
   "source": "",
   "id": "fe6cf602ae249991",
   "outputs": [],
   "execution_count": null
  }
 ],
 "metadata": {
  "kernelspec": {
   "display_name": "Python 3",
   "language": "python",
   "name": "python3"
  },
  "language_info": {
   "codemirror_mode": {
    "name": "ipython",
    "version": 2
   },
   "file_extension": ".py",
   "mimetype": "text/x-python",
   "name": "python",
   "nbconvert_exporter": "python",
   "pygments_lexer": "ipython2",
   "version": "2.7.6"
  }
 },
 "nbformat": 4,
 "nbformat_minor": 5
}
